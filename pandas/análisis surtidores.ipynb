{
 "cells": [
  {
   "cell_type": "code",
   "execution_count": 1,
   "metadata": {},
   "outputs": [],
   "source": [
    "import pandas as pd\n",
    "from datetime import datetime\n",
    "import matplotlib.pyplot as plt"
   ]
  },
  {
   "cell_type": "code",
   "execution_count": 2,
   "metadata": {},
   "outputs": [],
   "source": [
    "precios = pd.read_csv('precios-en-surtidor-resolucin-3142016.csv')"
   ]
  },
  {
   "cell_type": "markdown",
   "metadata": {},
   "source": [
    "# ¿Qué tenemos en éste dataset?\n",
    "\n",
    "La propiedad `.shape` nos da las dimensiones que tiene el dataset (filas, columnas)"
   ]
  },
  {
   "cell_type": "code",
   "execution_count": 3,
   "metadata": {},
   "outputs": [
    {
     "data": {
      "text/plain": [
       "(33781, 18)"
      ]
     },
     "execution_count": 3,
     "metadata": {},
     "output_type": "execute_result"
    }
   ],
   "source": [
    "precios.shape"
   ]
  },
  {
   "cell_type": "markdown",
   "metadata": {},
   "source": [
    "El método `head()` nos permite ver las primeras N filas (5 por default)."
   ]
  },
  {
   "cell_type": "code",
   "execution_count": 4,
   "metadata": {},
   "outputs": [
    {
     "data": {
      "text/html": [
       "<div>\n",
       "<style scoped>\n",
       "    .dataframe tbody tr th:only-of-type {\n",
       "        vertical-align: middle;\n",
       "    }\n",
       "\n",
       "    .dataframe tbody tr th {\n",
       "        vertical-align: top;\n",
       "    }\n",
       "\n",
       "    .dataframe thead th {\n",
       "        text-align: right;\n",
       "    }\n",
       "</style>\n",
       "<table border=\"1\" class=\"dataframe\">\n",
       "  <thead>\n",
       "    <tr style=\"text-align: right;\">\n",
       "      <th></th>\n",
       "      <th>idempresa</th>\n",
       "      <th>cuit</th>\n",
       "      <th>empresa</th>\n",
       "      <th>direccion</th>\n",
       "      <th>localidad</th>\n",
       "      <th>provincia</th>\n",
       "      <th>region</th>\n",
       "      <th>idproducto</th>\n",
       "      <th>producto</th>\n",
       "      <th>idtipohorario</th>\n",
       "      <th>tipohorario</th>\n",
       "      <th>precio</th>\n",
       "      <th>fecha_vigencia</th>\n",
       "      <th>idempresabandera</th>\n",
       "      <th>empresabandera</th>\n",
       "      <th>latitud</th>\n",
       "      <th>longitud</th>\n",
       "      <th>geojson</th>\n",
       "    </tr>\n",
       "  </thead>\n",
       "  <tbody>\n",
       "    <tr>\n",
       "      <th>0</th>\n",
       "      <td>1376</td>\n",
       "      <td>33-64337382-9</td>\n",
       "      <td>10 DE SETIEMBRE S.A.</td>\n",
       "      <td>Av. Mosconi 299</td>\n",
       "      <td>LOMAS DEL MIRADOR</td>\n",
       "      <td>BUENOS AIRES</td>\n",
       "      <td>PAMPEANA</td>\n",
       "      <td>6</td>\n",
       "      <td>GNC</td>\n",
       "      <td>2</td>\n",
       "      <td>Diurno</td>\n",
       "      <td>8.79</td>\n",
       "      <td>2017-03-27 10:38:00</td>\n",
       "      <td>1</td>\n",
       "      <td>BLANCA</td>\n",
       "      <td>-34.658476</td>\n",
       "      <td>-58.529443</td>\n",
       "      <td>{\"type\":\"Point\",\"coordinates\":[-58.529443,-34....</td>\n",
       "    </tr>\n",
       "    <tr>\n",
       "      <th>1</th>\n",
       "      <td>1376</td>\n",
       "      <td>33-64337382-9</td>\n",
       "      <td>10 DE SETIEMBRE S.A.</td>\n",
       "      <td>Av. Mosconi 299</td>\n",
       "      <td>LOMAS DEL MIRADOR</td>\n",
       "      <td>BUENOS AIRES</td>\n",
       "      <td>PAMPEANA</td>\n",
       "      <td>6</td>\n",
       "      <td>GNC</td>\n",
       "      <td>3</td>\n",
       "      <td>Nocturno</td>\n",
       "      <td>8.79</td>\n",
       "      <td>2017-03-27 10:38:00</td>\n",
       "      <td>1</td>\n",
       "      <td>BLANCA</td>\n",
       "      <td>-34.658476</td>\n",
       "      <td>-58.529443</td>\n",
       "      <td>{\"type\":\"Point\",\"coordinates\":[-58.529443,-34....</td>\n",
       "    </tr>\n",
       "    <tr>\n",
       "      <th>2</th>\n",
       "      <td>8943</td>\n",
       "      <td>30-71251168-7</td>\n",
       "      <td>1913 SRL</td>\n",
       "      <td>Julio A Roca 715</td>\n",
       "      <td>GOBERNADOR COSTA</td>\n",
       "      <td>CHUBUT</td>\n",
       "      <td>PATAGONIA</td>\n",
       "      <td>19</td>\n",
       "      <td>Gas Oil Grado 2</td>\n",
       "      <td>2</td>\n",
       "      <td>Diurno</td>\n",
       "      <td>14.96</td>\n",
       "      <td>2017-04-06 20:51:00</td>\n",
       "      <td>26</td>\n",
       "      <td>AXION</td>\n",
       "      <td>-44.050662</td>\n",
       "      <td>-70.583041</td>\n",
       "      <td>{\"type\":\"Point\",\"coordinates\":[-70.583041,-44....</td>\n",
       "    </tr>\n",
       "    <tr>\n",
       "      <th>3</th>\n",
       "      <td>8943</td>\n",
       "      <td>30-71251168-7</td>\n",
       "      <td>1913 SRL</td>\n",
       "      <td>Julio A Roca 715</td>\n",
       "      <td>GOBERNADOR COSTA</td>\n",
       "      <td>CHUBUT</td>\n",
       "      <td>PATAGONIA</td>\n",
       "      <td>19</td>\n",
       "      <td>Gas Oil Grado 2</td>\n",
       "      <td>3</td>\n",
       "      <td>Nocturno</td>\n",
       "      <td>14.96</td>\n",
       "      <td>2017-04-06 20:51:00</td>\n",
       "      <td>26</td>\n",
       "      <td>AXION</td>\n",
       "      <td>-44.050662</td>\n",
       "      <td>-70.583041</td>\n",
       "      <td>{\"type\":\"Point\",\"coordinates\":[-70.583041,-44....</td>\n",
       "    </tr>\n",
       "    <tr>\n",
       "      <th>4</th>\n",
       "      <td>8943</td>\n",
       "      <td>30-71251168-7</td>\n",
       "      <td>1913 SRL</td>\n",
       "      <td>Julio A Roca 715</td>\n",
       "      <td>GOBERNADOR COSTA</td>\n",
       "      <td>CHUBUT</td>\n",
       "      <td>PATAGONIA</td>\n",
       "      <td>21</td>\n",
       "      <td>Gas Oil Grado 3</td>\n",
       "      <td>2</td>\n",
       "      <td>Diurno</td>\n",
       "      <td>16.75</td>\n",
       "      <td>2017-04-06 20:52:00</td>\n",
       "      <td>26</td>\n",
       "      <td>AXION</td>\n",
       "      <td>-44.050662</td>\n",
       "      <td>-70.583041</td>\n",
       "      <td>{\"type\":\"Point\",\"coordinates\":[-70.583041,-44....</td>\n",
       "    </tr>\n",
       "  </tbody>\n",
       "</table>\n",
       "</div>"
      ],
      "text/plain": [
       "   idempresa           cuit               empresa         direccion  \\\n",
       "0       1376  33-64337382-9  10 DE SETIEMBRE S.A.   Av. Mosconi 299   \n",
       "1       1376  33-64337382-9  10 DE SETIEMBRE S.A.   Av. Mosconi 299   \n",
       "2       8943  30-71251168-7              1913 SRL  Julio A Roca 715   \n",
       "3       8943  30-71251168-7              1913 SRL  Julio A Roca 715   \n",
       "4       8943  30-71251168-7              1913 SRL  Julio A Roca 715   \n",
       "\n",
       "           localidad     provincia     region  idproducto         producto  \\\n",
       "0  LOMAS DEL MIRADOR  BUENOS AIRES   PAMPEANA           6              GNC   \n",
       "1  LOMAS DEL MIRADOR  BUENOS AIRES   PAMPEANA           6              GNC   \n",
       "2   GOBERNADOR COSTA        CHUBUT  PATAGONIA          19  Gas Oil Grado 2   \n",
       "3   GOBERNADOR COSTA        CHUBUT  PATAGONIA          19  Gas Oil Grado 2   \n",
       "4   GOBERNADOR COSTA        CHUBUT  PATAGONIA          21  Gas Oil Grado 3   \n",
       "\n",
       "   idtipohorario tipohorario  precio       fecha_vigencia  idempresabandera  \\\n",
       "0              2      Diurno    8.79  2017-03-27 10:38:00                 1   \n",
       "1              3    Nocturno    8.79  2017-03-27 10:38:00                 1   \n",
       "2              2      Diurno   14.96  2017-04-06 20:51:00                26   \n",
       "3              3    Nocturno   14.96  2017-04-06 20:51:00                26   \n",
       "4              2      Diurno   16.75  2017-04-06 20:52:00                26   \n",
       "\n",
       "  empresabandera    latitud   longitud  \\\n",
       "0         BLANCA -34.658476 -58.529443   \n",
       "1         BLANCA -34.658476 -58.529443   \n",
       "2          AXION -44.050662 -70.583041   \n",
       "3          AXION -44.050662 -70.583041   \n",
       "4          AXION -44.050662 -70.583041   \n",
       "\n",
       "                                             geojson  \n",
       "0  {\"type\":\"Point\",\"coordinates\":[-58.529443,-34....  \n",
       "1  {\"type\":\"Point\",\"coordinates\":[-58.529443,-34....  \n",
       "2  {\"type\":\"Point\",\"coordinates\":[-70.583041,-44....  \n",
       "3  {\"type\":\"Point\",\"coordinates\":[-70.583041,-44....  \n",
       "4  {\"type\":\"Point\",\"coordinates\":[-70.583041,-44....  "
      ]
     },
     "execution_count": 4,
     "metadata": {},
     "output_type": "execute_result"
    }
   ],
   "source": [
    "precios.head()"
   ]
  },
  {
   "cell_type": "markdown",
   "metadata": {},
   "source": [
    "El método `describe()` nos muestra un poco de estadística descriptiba sobre aquellas columnas numéricas"
   ]
  },
  {
   "cell_type": "code",
   "execution_count": 5,
   "metadata": {},
   "outputs": [
    {
     "data": {
      "text/html": [
       "<div>\n",
       "<style scoped>\n",
       "    .dataframe tbody tr th:only-of-type {\n",
       "        vertical-align: middle;\n",
       "    }\n",
       "\n",
       "    .dataframe tbody tr th {\n",
       "        vertical-align: top;\n",
       "    }\n",
       "\n",
       "    .dataframe thead th {\n",
       "        text-align: right;\n",
       "    }\n",
       "</style>\n",
       "<table border=\"1\" class=\"dataframe\">\n",
       "  <thead>\n",
       "    <tr style=\"text-align: right;\">\n",
       "      <th></th>\n",
       "      <th>idempresa</th>\n",
       "      <th>idproducto</th>\n",
       "      <th>idtipohorario</th>\n",
       "      <th>precio</th>\n",
       "      <th>idempresabandera</th>\n",
       "      <th>latitud</th>\n",
       "      <th>longitud</th>\n",
       "    </tr>\n",
       "  </thead>\n",
       "  <tbody>\n",
       "    <tr>\n",
       "      <th>count</th>\n",
       "      <td>33781.000000</td>\n",
       "      <td>33781.000000</td>\n",
       "      <td>33781.000000</td>\n",
       "      <td>33781.000000</td>\n",
       "      <td>33781.000000</td>\n",
       "      <td>33767.000000</td>\n",
       "      <td>33767.000000</td>\n",
       "    </tr>\n",
       "    <tr>\n",
       "      <th>mean</th>\n",
       "      <td>4437.204908</td>\n",
       "      <td>10.694503</td>\n",
       "      <td>2.499956</td>\n",
       "      <td>25.646718</td>\n",
       "      <td>6.011219</td>\n",
       "      <td>-33.441135</td>\n",
       "      <td>-61.635892</td>\n",
       "    </tr>\n",
       "    <tr>\n",
       "      <th>std</th>\n",
       "      <td>2781.111519</td>\n",
       "      <td>8.468580</td>\n",
       "      <td>0.500007</td>\n",
       "      <td>5.159886</td>\n",
       "      <td>7.818441</td>\n",
       "      <td>4.136823</td>\n",
       "      <td>3.628216</td>\n",
       "    </tr>\n",
       "    <tr>\n",
       "      <th>min</th>\n",
       "      <td>102.000000</td>\n",
       "      <td>2.000000</td>\n",
       "      <td>2.000000</td>\n",
       "      <td>7.000000</td>\n",
       "      <td>1.000000</td>\n",
       "      <td>-54.829501</td>\n",
       "      <td>-72.338930</td>\n",
       "    </tr>\n",
       "    <tr>\n",
       "      <th>25%</th>\n",
       "      <td>1794.000000</td>\n",
       "      <td>3.000000</td>\n",
       "      <td>2.000000</td>\n",
       "      <td>23.560000</td>\n",
       "      <td>2.000000</td>\n",
       "      <td>-34.787240</td>\n",
       "      <td>-64.264660</td>\n",
       "    </tr>\n",
       "    <tr>\n",
       "      <th>50%</th>\n",
       "      <td>4132.000000</td>\n",
       "      <td>6.000000</td>\n",
       "      <td>2.000000</td>\n",
       "      <td>26.660000</td>\n",
       "      <td>2.000000</td>\n",
       "      <td>-33.901050</td>\n",
       "      <td>-60.693180</td>\n",
       "    </tr>\n",
       "    <tr>\n",
       "      <th>75%</th>\n",
       "      <td>7051.000000</td>\n",
       "      <td>19.000000</td>\n",
       "      <td>3.000000</td>\n",
       "      <td>28.990000</td>\n",
       "      <td>4.000000</td>\n",
       "      <td>-31.459007</td>\n",
       "      <td>-58.559811</td>\n",
       "    </tr>\n",
       "    <tr>\n",
       "      <th>max</th>\n",
       "      <td>9252.000000</td>\n",
       "      <td>21.000000</td>\n",
       "      <td>3.000000</td>\n",
       "      <td>35.490000</td>\n",
       "      <td>28.000000</td>\n",
       "      <td>-22.055820</td>\n",
       "      <td>-53.648260</td>\n",
       "    </tr>\n",
       "  </tbody>\n",
       "</table>\n",
       "</div>"
      ],
      "text/plain": [
       "          idempresa    idproducto  idtipohorario        precio  \\\n",
       "count  33781.000000  33781.000000   33781.000000  33781.000000   \n",
       "mean    4437.204908     10.694503       2.499956     25.646718   \n",
       "std     2781.111519      8.468580       0.500007      5.159886   \n",
       "min      102.000000      2.000000       2.000000      7.000000   \n",
       "25%     1794.000000      3.000000       2.000000     23.560000   \n",
       "50%     4132.000000      6.000000       2.000000     26.660000   \n",
       "75%     7051.000000     19.000000       3.000000     28.990000   \n",
       "max     9252.000000     21.000000       3.000000     35.490000   \n",
       "\n",
       "       idempresabandera       latitud      longitud  \n",
       "count      33781.000000  33767.000000  33767.000000  \n",
       "mean           6.011219    -33.441135    -61.635892  \n",
       "std            7.818441      4.136823      3.628216  \n",
       "min            1.000000    -54.829501    -72.338930  \n",
       "25%            2.000000    -34.787240    -64.264660  \n",
       "50%            2.000000    -33.901050    -60.693180  \n",
       "75%            4.000000    -31.459007    -58.559811  \n",
       "max           28.000000    -22.055820    -53.648260  "
      ]
     },
     "execution_count": 5,
     "metadata": {},
     "output_type": "execute_result"
    }
   ],
   "source": [
    "precios.describe()"
   ]
  },
  {
   "cell_type": "markdown",
   "metadata": {},
   "source": [
    "El método `info()` nos da información sobre las columnas que tiene el dataset, la cantidad filas que tienen datos (non-null) en la misma y el tipo de dato."
   ]
  },
  {
   "cell_type": "code",
   "execution_count": 6,
   "metadata": {},
   "outputs": [
    {
     "name": "stdout",
     "output_type": "stream",
     "text": [
      "<class 'pandas.core.frame.DataFrame'>\n",
      "RangeIndex: 33781 entries, 0 to 33780\n",
      "Data columns (total 18 columns):\n",
      "idempresa           33781 non-null int64\n",
      "cuit                33781 non-null object\n",
      "empresa             33781 non-null object\n",
      "direccion           33767 non-null object\n",
      "localidad           33781 non-null object\n",
      "provincia           33781 non-null object\n",
      "region              32857 non-null object\n",
      "idproducto          33781 non-null int64\n",
      "producto            33781 non-null object\n",
      "idtipohorario       33781 non-null int64\n",
      "tipohorario         33781 non-null object\n",
      "precio              33781 non-null float64\n",
      "fecha_vigencia      33781 non-null object\n",
      "idempresabandera    33781 non-null int64\n",
      "empresabandera      33781 non-null object\n",
      "latitud             33767 non-null float64\n",
      "longitud            33767 non-null float64\n",
      "geojson             33767 non-null object\n",
      "dtypes: float64(3), int64(4), object(11)\n",
      "memory usage: 4.6+ MB\n"
     ]
    }
   ],
   "source": [
    "precios.info()"
   ]
  },
  {
   "cell_type": "markdown",
   "metadata": {},
   "source": [
    "# Preparación y tranformación de datos"
   ]
  },
  {
   "cell_type": "markdown",
   "metadata": {},
   "source": [
    "Cuando trabajamos con datos de fuentes externas a las cuales no tenemos control, siempre necesitaremos manipular y traformar esos datos según nuestras necesidades."
   ]
  },
  {
   "cell_type": "markdown",
   "metadata": {},
   "source": [
    "### Primer paso: Quitar horas y minutos\n",
    "Lo primero que haremos, es quitar la hora y los minutos porque no nos interesan.\n",
    "\n",
    "`.str` es una propiedad que nos permite acceder a métodos y atributos específios para la manipulación de strings."
   ]
  },
  {
   "cell_type": "code",
   "execution_count": 7,
   "metadata": {},
   "outputs": [
    {
     "data": {
      "text/html": [
       "<div>\n",
       "<style scoped>\n",
       "    .dataframe tbody tr th:only-of-type {\n",
       "        vertical-align: middle;\n",
       "    }\n",
       "\n",
       "    .dataframe tbody tr th {\n",
       "        vertical-align: top;\n",
       "    }\n",
       "\n",
       "    .dataframe thead th {\n",
       "        text-align: right;\n",
       "    }\n",
       "</style>\n",
       "<table border=\"1\" class=\"dataframe\">\n",
       "  <thead>\n",
       "    <tr style=\"text-align: right;\">\n",
       "      <th></th>\n",
       "      <th>idempresa</th>\n",
       "      <th>cuit</th>\n",
       "      <th>empresa</th>\n",
       "      <th>direccion</th>\n",
       "      <th>localidad</th>\n",
       "      <th>provincia</th>\n",
       "      <th>region</th>\n",
       "      <th>idproducto</th>\n",
       "      <th>producto</th>\n",
       "      <th>idtipohorario</th>\n",
       "      <th>tipohorario</th>\n",
       "      <th>precio</th>\n",
       "      <th>fecha_vigencia</th>\n",
       "      <th>idempresabandera</th>\n",
       "      <th>empresabandera</th>\n",
       "      <th>latitud</th>\n",
       "      <th>longitud</th>\n",
       "      <th>geojson</th>\n",
       "    </tr>\n",
       "  </thead>\n",
       "  <tbody>\n",
       "    <tr>\n",
       "      <th>0</th>\n",
       "      <td>1376</td>\n",
       "      <td>33-64337382-9</td>\n",
       "      <td>10 DE SETIEMBRE S.A.</td>\n",
       "      <td>Av. Mosconi 299</td>\n",
       "      <td>LOMAS DEL MIRADOR</td>\n",
       "      <td>BUENOS AIRES</td>\n",
       "      <td>PAMPEANA</td>\n",
       "      <td>6</td>\n",
       "      <td>GNC</td>\n",
       "      <td>2</td>\n",
       "      <td>Diurno</td>\n",
       "      <td>8.79</td>\n",
       "      <td>2017-03-27</td>\n",
       "      <td>1</td>\n",
       "      <td>BLANCA</td>\n",
       "      <td>-34.658476</td>\n",
       "      <td>-58.529443</td>\n",
       "      <td>{\"type\":\"Point\",\"coordinates\":[-58.529443,-34....</td>\n",
       "    </tr>\n",
       "    <tr>\n",
       "      <th>1</th>\n",
       "      <td>1376</td>\n",
       "      <td>33-64337382-9</td>\n",
       "      <td>10 DE SETIEMBRE S.A.</td>\n",
       "      <td>Av. Mosconi 299</td>\n",
       "      <td>LOMAS DEL MIRADOR</td>\n",
       "      <td>BUENOS AIRES</td>\n",
       "      <td>PAMPEANA</td>\n",
       "      <td>6</td>\n",
       "      <td>GNC</td>\n",
       "      <td>3</td>\n",
       "      <td>Nocturno</td>\n",
       "      <td>8.79</td>\n",
       "      <td>2017-03-27</td>\n",
       "      <td>1</td>\n",
       "      <td>BLANCA</td>\n",
       "      <td>-34.658476</td>\n",
       "      <td>-58.529443</td>\n",
       "      <td>{\"type\":\"Point\",\"coordinates\":[-58.529443,-34....</td>\n",
       "    </tr>\n",
       "    <tr>\n",
       "      <th>2</th>\n",
       "      <td>8943</td>\n",
       "      <td>30-71251168-7</td>\n",
       "      <td>1913 SRL</td>\n",
       "      <td>Julio A Roca 715</td>\n",
       "      <td>GOBERNADOR COSTA</td>\n",
       "      <td>CHUBUT</td>\n",
       "      <td>PATAGONIA</td>\n",
       "      <td>19</td>\n",
       "      <td>Gas Oil Grado 2</td>\n",
       "      <td>2</td>\n",
       "      <td>Diurno</td>\n",
       "      <td>14.96</td>\n",
       "      <td>2017-04-06</td>\n",
       "      <td>26</td>\n",
       "      <td>AXION</td>\n",
       "      <td>-44.050662</td>\n",
       "      <td>-70.583041</td>\n",
       "      <td>{\"type\":\"Point\",\"coordinates\":[-70.583041,-44....</td>\n",
       "    </tr>\n",
       "    <tr>\n",
       "      <th>3</th>\n",
       "      <td>8943</td>\n",
       "      <td>30-71251168-7</td>\n",
       "      <td>1913 SRL</td>\n",
       "      <td>Julio A Roca 715</td>\n",
       "      <td>GOBERNADOR COSTA</td>\n",
       "      <td>CHUBUT</td>\n",
       "      <td>PATAGONIA</td>\n",
       "      <td>19</td>\n",
       "      <td>Gas Oil Grado 2</td>\n",
       "      <td>3</td>\n",
       "      <td>Nocturno</td>\n",
       "      <td>14.96</td>\n",
       "      <td>2017-04-06</td>\n",
       "      <td>26</td>\n",
       "      <td>AXION</td>\n",
       "      <td>-44.050662</td>\n",
       "      <td>-70.583041</td>\n",
       "      <td>{\"type\":\"Point\",\"coordinates\":[-70.583041,-44....</td>\n",
       "    </tr>\n",
       "    <tr>\n",
       "      <th>4</th>\n",
       "      <td>8943</td>\n",
       "      <td>30-71251168-7</td>\n",
       "      <td>1913 SRL</td>\n",
       "      <td>Julio A Roca 715</td>\n",
       "      <td>GOBERNADOR COSTA</td>\n",
       "      <td>CHUBUT</td>\n",
       "      <td>PATAGONIA</td>\n",
       "      <td>21</td>\n",
       "      <td>Gas Oil Grado 3</td>\n",
       "      <td>2</td>\n",
       "      <td>Diurno</td>\n",
       "      <td>16.75</td>\n",
       "      <td>2017-04-06</td>\n",
       "      <td>26</td>\n",
       "      <td>AXION</td>\n",
       "      <td>-44.050662</td>\n",
       "      <td>-70.583041</td>\n",
       "      <td>{\"type\":\"Point\",\"coordinates\":[-70.583041,-44....</td>\n",
       "    </tr>\n",
       "  </tbody>\n",
       "</table>\n",
       "</div>"
      ],
      "text/plain": [
       "   idempresa           cuit               empresa         direccion  \\\n",
       "0       1376  33-64337382-9  10 DE SETIEMBRE S.A.   Av. Mosconi 299   \n",
       "1       1376  33-64337382-9  10 DE SETIEMBRE S.A.   Av. Mosconi 299   \n",
       "2       8943  30-71251168-7              1913 SRL  Julio A Roca 715   \n",
       "3       8943  30-71251168-7              1913 SRL  Julio A Roca 715   \n",
       "4       8943  30-71251168-7              1913 SRL  Julio A Roca 715   \n",
       "\n",
       "           localidad     provincia     region  idproducto         producto  \\\n",
       "0  LOMAS DEL MIRADOR  BUENOS AIRES   PAMPEANA           6              GNC   \n",
       "1  LOMAS DEL MIRADOR  BUENOS AIRES   PAMPEANA           6              GNC   \n",
       "2   GOBERNADOR COSTA        CHUBUT  PATAGONIA          19  Gas Oil Grado 2   \n",
       "3   GOBERNADOR COSTA        CHUBUT  PATAGONIA          19  Gas Oil Grado 2   \n",
       "4   GOBERNADOR COSTA        CHUBUT  PATAGONIA          21  Gas Oil Grado 3   \n",
       "\n",
       "   idtipohorario tipohorario  precio fecha_vigencia  idempresabandera  \\\n",
       "0              2      Diurno    8.79     2017-03-27                 1   \n",
       "1              3    Nocturno    8.79     2017-03-27                 1   \n",
       "2              2      Diurno   14.96     2017-04-06                26   \n",
       "3              3    Nocturno   14.96     2017-04-06                26   \n",
       "4              2      Diurno   16.75     2017-04-06                26   \n",
       "\n",
       "  empresabandera    latitud   longitud  \\\n",
       "0         BLANCA -34.658476 -58.529443   \n",
       "1         BLANCA -34.658476 -58.529443   \n",
       "2          AXION -44.050662 -70.583041   \n",
       "3          AXION -44.050662 -70.583041   \n",
       "4          AXION -44.050662 -70.583041   \n",
       "\n",
       "                                             geojson  \n",
       "0  {\"type\":\"Point\",\"coordinates\":[-58.529443,-34....  \n",
       "1  {\"type\":\"Point\",\"coordinates\":[-58.529443,-34....  \n",
       "2  {\"type\":\"Point\",\"coordinates\":[-70.583041,-44....  \n",
       "3  {\"type\":\"Point\",\"coordinates\":[-70.583041,-44....  \n",
       "4  {\"type\":\"Point\",\"coordinates\":[-70.583041,-44....  "
      ]
     },
     "execution_count": 7,
     "metadata": {},
     "output_type": "execute_result"
    }
   ],
   "source": [
    "precios['fecha_vigencia'] = precios['fecha_vigencia'].str.slice(0, 10)  # '27/03/2017 10:38' -> '27/03/2017'\n",
    "precios.head()"
   ]
  },
  {
   "cell_type": "markdown",
   "metadata": {},
   "source": [
    "### Segundo paso: Convertir string a Date\n",
    "Pandas interpretó la columna `fecha_vigencia` como string porque no conoce el formato de fecha que tiene, sin embargo, nosotros necesitamos que pandas entienda que dicha columna es una fecha. \n",
    "\n",
    "`.to_datetime()` convierte un string a un objeto de tipo DateTime."
   ]
  },
  {
   "cell_type": "code",
   "execution_count": 8,
   "metadata": {},
   "outputs": [
    {
     "name": "stdout",
     "output_type": "stream",
     "text": [
      "<class 'pandas.core.frame.DataFrame'>\n",
      "RangeIndex: 33781 entries, 0 to 33780\n",
      "Data columns (total 18 columns):\n",
      "idempresa           33781 non-null int64\n",
      "cuit                33781 non-null object\n",
      "empresa             33781 non-null object\n",
      "direccion           33767 non-null object\n",
      "localidad           33781 non-null object\n",
      "provincia           33781 non-null object\n",
      "region              32857 non-null object\n",
      "idproducto          33781 non-null int64\n",
      "producto            33781 non-null object\n",
      "idtipohorario       33781 non-null int64\n",
      "tipohorario         33781 non-null object\n",
      "precio              33781 non-null float64\n",
      "fecha_vigencia      33781 non-null datetime64[ns]\n",
      "idempresabandera    33781 non-null int64\n",
      "empresabandera      33781 non-null object\n",
      "latitud             33767 non-null float64\n",
      "longitud            33767 non-null float64\n",
      "geojson             33767 non-null object\n",
      "dtypes: datetime64[ns](1), float64(3), int64(4), object(10)\n",
      "memory usage: 4.6+ MB\n"
     ]
    }
   ],
   "source": [
    "precios[\"fecha_vigencia\"] = pd.to_datetime(precios[\"fecha_vigencia\"])\n",
    "precios.info()"
   ]
  },
  {
   "cell_type": "markdown",
   "metadata": {},
   "source": [
    "# Algunas preguntas a responder..."
   ]
  },
  {
   "cell_type": "markdown",
   "metadata": {},
   "source": [
    "### ¿Cuál es la fecha de la primer medición? ¿Y cuál fue su precio?\n",
    "`.idxmin()` devuelve el índice correspondiente al menor valor de una columna determinada, en nuestro caso `fecha_vigencia`\n",
    "\n",
    "`.loc` nos permite acceder a filas através del índice"
   ]
  },
  {
   "cell_type": "code",
   "execution_count": 9,
   "metadata": {},
   "outputs": [
    {
     "name": "stdout",
     "output_type": "stream",
     "text": [
      "30009\n"
     ]
    },
    {
     "data": {
      "text/plain": [
       "idempresa                                                        6365\n",
       "cuit                                                    30-70751747-2\n",
       "empresa                                                    SERIGAS SH\n",
       "direccion                                          AV. SA MARTIN 1050\n",
       "localidad                                                CNEL. SUAREZ\n",
       "provincia                                                BUENOS AIRES\n",
       "region                                                       PAMPEANA\n",
       "idproducto                                                          6\n",
       "producto                                                          GNC\n",
       "idtipohorario                                                       2\n",
       "tipohorario                                                    Diurno\n",
       "precio                                                          11.99\n",
       "fecha_vigencia                                    2016-04-01 00:00:00\n",
       "idempresabandera                                                    1\n",
       "empresabandera                                                 BLANCA\n",
       "latitud                                                      -37.4706\n",
       "longitud                                                      -61.929\n",
       "geojson             {\"type\":\"Point\",\"coordinates\":[-61.928988,-37....\n",
       "Name: 30009, dtype: object"
      ]
     },
     "execution_count": 9,
     "metadata": {},
     "output_type": "execute_result"
    }
   ],
   "source": [
    "indice = precios['fecha_vigencia'].idxmin()\n",
    "print(indice)\n",
    "\n",
    "precios.loc[ indice ]"
   ]
  },
  {
   "cell_type": "markdown",
   "metadata": {},
   "source": [
    "### ¿Cuál es la fecha de la última medición? ¿Y cuál fue su precio?\n",
    "`.idxmax()` devuelve el índice correspondiente al mayor valor de una columna determinada, en nuestro caso `fecha_vigencia`\n"
   ]
  },
  {
   "cell_type": "code",
   "execution_count": 10,
   "metadata": {},
   "outputs": [
    {
     "name": "stdout",
     "output_type": "stream",
     "text": [
      "106\n"
     ]
    },
    {
     "data": {
      "text/plain": [
       "idempresa                                                        3728\n",
       "cuit                                                    30-50646337-4\n",
       "empresa                                            ABDALA HNOS.S.R.L.\n",
       "direccion                                               LIBERTAD 2080\n",
       "localidad                                         SANTIAGO DEL ESTERO\n",
       "provincia                                         SANTIAGO DEL ESTERO\n",
       "region                                                            NOA\n",
       "idproducto                                                         19\n",
       "producto                                              Gas Oil Grado 2\n",
       "idtipohorario                                                       2\n",
       "tipohorario                                                    Diurno\n",
       "precio                                                          24.64\n",
       "fecha_vigencia                                    2018-05-16 00:00:00\n",
       "idempresabandera                                                    4\n",
       "empresabandera                                       SHELL C.A.P.S.A.\n",
       "latitud                                                      -27.7983\n",
       "longitud                                                     -64.2772\n",
       "geojson             {\"type\":\"Point\",\"coordinates\":[-64.27723,-27.7...\n",
       "Name: 106, dtype: object"
      ]
     },
     "execution_count": 10,
     "metadata": {},
     "output_type": "execute_result"
    }
   ],
   "source": [
    "indice = precios['fecha_vigencia'].idxmax()\n",
    "print(indice)\n",
    "\n",
    "precios.loc[ precios['fecha_vigencia'].idxmax() ]"
   ]
  },
  {
   "cell_type": "markdown",
   "metadata": {},
   "source": [
    "### ¿Donde el precio de la nafta es más caro?"
   ]
  },
  {
   "cell_type": "code",
   "execution_count": 11,
   "metadata": {},
   "outputs": [
    {
     "data": {
      "text/plain": [
       "idempresa                                                        7147\n",
       "cuit                                                    30-70933773-0\n",
       "empresa                                           ESTACION COFICO SRL\n",
       "direccion                                                  BEDOYA 701\n",
       "localidad                                                     CORDOBA\n",
       "provincia                                                     CORDOBA\n",
       "region                                                         CENTRO\n",
       "idproducto                                                          3\n",
       "producto                             Nafta (premium) de más de 95 Ron\n",
       "idtipohorario                                                       2\n",
       "tipohorario                                                    Diurno\n",
       "precio                                                          35.49\n",
       "fecha_vigencia                                    2018-04-09 00:00:00\n",
       "idempresabandera                                                    1\n",
       "empresabandera                                                 BLANCA\n",
       "latitud                                                      -31.3982\n",
       "longitud                                                     -64.1868\n",
       "geojson             {\"type\":\"Point\",\"coordinates\":[-64.18681,-31.3...\n",
       "Name: 11627, dtype: object"
      ]
     },
     "execution_count": 11,
     "metadata": {},
     "output_type": "execute_result"
    }
   ],
   "source": [
    "precios.loc[ precios['precio'].idxmax() ]"
   ]
  },
  {
   "cell_type": "markdown",
   "metadata": {},
   "source": [
    "### ¿Cuales son los combustibles que disponemos en el dataset?\n",
    "`.unique()` nos devuelve un array con todos los valores que hay en una columna sin repetir."
   ]
  },
  {
   "cell_type": "code",
   "execution_count": 12,
   "metadata": {},
   "outputs": [
    {
     "data": {
      "text/plain": [
       "array(['GNC', 'Gas Oil Grado 2', 'Gas Oil Grado 3',\n",
       "       'Nafta (premium) de más de 95 Ron',\n",
       "       'Nafta (súper) entre 92 y 95 Ron'], dtype=object)"
      ]
     },
     "execution_count": 12,
     "metadata": {},
     "output_type": "execute_result"
    }
   ],
   "source": [
    "combustibles = precios['producto'].unique()\n",
    "combustibles"
   ]
  },
  {
   "cell_type": "markdown",
   "metadata": {},
   "source": [
    "### Para cada tipo de combustible... ¿Donde se encuentra el más caro en lo que va de éste mes?¿Y los más baratos?\n",
    "#### los más caros\n",
    "`.dt` (abreviación de **d**ate**t**ime) es una propiedad que nos permite acceder a métodos y atributos específios para la manipulación de fechas. \n",
    "\n",
    "`.groupby()` agrupa un conjunto de filas según una o más columnas. Es equivalente a la cláusula `GROUP BY` de `SQL`"
   ]
  },
  {
   "cell_type": "code",
   "execution_count": 13,
   "metadata": {},
   "outputs": [],
   "source": [
    "precios_mes_actual = precios[\n",
    "    (precios['fecha_vigencia'].dt.month == 5) & (precios['fecha_vigencia'].dt.year == 2018) \n",
    "]"
   ]
  },
  {
   "cell_type": "code",
   "execution_count": 14,
   "metadata": {},
   "outputs": [
    {
     "data": {
      "text/html": [
       "<div>\n",
       "<style scoped>\n",
       "    .dataframe tbody tr th:only-of-type {\n",
       "        vertical-align: middle;\n",
       "    }\n",
       "\n",
       "    .dataframe tbody tr th {\n",
       "        vertical-align: top;\n",
       "    }\n",
       "\n",
       "    .dataframe thead th {\n",
       "        text-align: right;\n",
       "    }\n",
       "</style>\n",
       "<table border=\"1\" class=\"dataframe\">\n",
       "  <thead>\n",
       "    <tr style=\"text-align: right;\">\n",
       "      <th></th>\n",
       "      <th>fecha_vigencia</th>\n",
       "      <th>producto</th>\n",
       "      <th>empresabandera</th>\n",
       "      <th>provincia</th>\n",
       "      <th>localidad</th>\n",
       "      <th>precio</th>\n",
       "    </tr>\n",
       "  </thead>\n",
       "  <tbody>\n",
       "    <tr>\n",
       "      <th>33415</th>\n",
       "      <td>2018-05-09</td>\n",
       "      <td>GNC</td>\n",
       "      <td>BLANCA</td>\n",
       "      <td>MENDOZA</td>\n",
       "      <td>SAN RAFAEL</td>\n",
       "      <td>17.50</td>\n",
       "    </tr>\n",
       "    <tr>\n",
       "      <th>25185</th>\n",
       "      <td>2018-05-08</td>\n",
       "      <td>Gas Oil Grado 2</td>\n",
       "      <td>SOL PETROLEO</td>\n",
       "      <td>SANTA FE</td>\n",
       "      <td>PIÑERO</td>\n",
       "      <td>28.10</td>\n",
       "    </tr>\n",
       "    <tr>\n",
       "      <th>14635</th>\n",
       "      <td>2018-05-04</td>\n",
       "      <td>Gas Oil Grado 3</td>\n",
       "      <td>BLANCA</td>\n",
       "      <td>CORDOBA</td>\n",
       "      <td>VILLA CARLOS PAZ</td>\n",
       "      <td>31.27</td>\n",
       "    </tr>\n",
       "    <tr>\n",
       "      <th>14639</th>\n",
       "      <td>2018-05-04</td>\n",
       "      <td>Nafta (premium) de más de 95 Ron</td>\n",
       "      <td>BLANCA</td>\n",
       "      <td>CORDOBA</td>\n",
       "      <td>VILLA CARLOS PAZ</td>\n",
       "      <td>35.28</td>\n",
       "    </tr>\n",
       "    <tr>\n",
       "      <th>14641</th>\n",
       "      <td>2018-05-04</td>\n",
       "      <td>Nafta (súper) entre 92 y 95 Ron</td>\n",
       "      <td>BLANCA</td>\n",
       "      <td>CORDOBA</td>\n",
       "      <td>VILLA CARLOS PAZ</td>\n",
       "      <td>31.89</td>\n",
       "    </tr>\n",
       "  </tbody>\n",
       "</table>\n",
       "</div>"
      ],
      "text/plain": [
       "      fecha_vigencia                          producto empresabandera  \\\n",
       "33415     2018-05-09                               GNC         BLANCA   \n",
       "25185     2018-05-08                   Gas Oil Grado 2   SOL PETROLEO   \n",
       "14635     2018-05-04                   Gas Oil Grado 3         BLANCA   \n",
       "14639     2018-05-04  Nafta (premium) de más de 95 Ron         BLANCA   \n",
       "14641     2018-05-04   Nafta (súper) entre 92 y 95 Ron         BLANCA   \n",
       "\n",
       "      provincia         localidad  precio  \n",
       "33415   MENDOZA        SAN RAFAEL   17.50  \n",
       "25185  SANTA FE            PIÑERO   28.10  \n",
       "14635   CORDOBA  VILLA CARLOS PAZ   31.27  \n",
       "14639   CORDOBA  VILLA CARLOS PAZ   35.28  \n",
       "14641   CORDOBA  VILLA CARLOS PAZ   31.89  "
      ]
     },
     "execution_count": 14,
     "metadata": {},
     "output_type": "execute_result"
    }
   ],
   "source": [
    "precios_actuales_altos = precios_mes_actual.loc[precios_mes_actual.groupby(by='producto')['precio'].idxmax() ]\n",
    "precios_actuales_altos[['fecha_vigencia', 'producto', 'empresabandera', 'provincia', 'localidad', 'precio']]"
   ]
  },
  {
   "cell_type": "markdown",
   "metadata": {},
   "source": [
    "#### Los más baratos"
   ]
  },
  {
   "cell_type": "code",
   "execution_count": 15,
   "metadata": {},
   "outputs": [
    {
     "data": {
      "text/html": [
       "<div>\n",
       "<style scoped>\n",
       "    .dataframe tbody tr th:only-of-type {\n",
       "        vertical-align: middle;\n",
       "    }\n",
       "\n",
       "    .dataframe tbody tr th {\n",
       "        vertical-align: top;\n",
       "    }\n",
       "\n",
       "    .dataframe thead th {\n",
       "        text-align: right;\n",
       "    }\n",
       "</style>\n",
       "<table border=\"1\" class=\"dataframe\">\n",
       "  <thead>\n",
       "    <tr style=\"text-align: right;\">\n",
       "      <th></th>\n",
       "      <th>fecha_vigencia</th>\n",
       "      <th>producto</th>\n",
       "      <th>empresabandera</th>\n",
       "      <th>provincia</th>\n",
       "      <th>localidad</th>\n",
       "      <th>precio</th>\n",
       "    </tr>\n",
       "  </thead>\n",
       "  <tbody>\n",
       "    <tr>\n",
       "      <th>9175</th>\n",
       "      <td>2018-05-16</td>\n",
       "      <td>GNC</td>\n",
       "      <td>BLANCA</td>\n",
       "      <td>BUENOS AIRES</td>\n",
       "      <td>LLAVALLOL</td>\n",
       "      <td>9.99</td>\n",
       "    </tr>\n",
       "    <tr>\n",
       "      <th>15295</th>\n",
       "      <td>2018-05-10</td>\n",
       "      <td>Gas Oil Grado 2</td>\n",
       "      <td>PETROBRAS</td>\n",
       "      <td>RIO NEGRO</td>\n",
       "      <td>SIERRA GRANDE</td>\n",
       "      <td>20.94</td>\n",
       "    </tr>\n",
       "    <tr>\n",
       "      <th>15297</th>\n",
       "      <td>2018-05-10</td>\n",
       "      <td>Gas Oil Grado 3</td>\n",
       "      <td>PETROBRAS</td>\n",
       "      <td>RIO NEGRO</td>\n",
       "      <td>SIERRA GRANDE</td>\n",
       "      <td>23.56</td>\n",
       "    </tr>\n",
       "    <tr>\n",
       "      <th>24561</th>\n",
       "      <td>2018-05-08</td>\n",
       "      <td>Nafta (premium) de más de 95 Ron</td>\n",
       "      <td>ESSO PETROLERA ARGENTINA S.R.L</td>\n",
       "      <td>RIO NEGRO</td>\n",
       "      <td>BARDA DEL MEDIO</td>\n",
       "      <td>22.96</td>\n",
       "    </tr>\n",
       "    <tr>\n",
       "      <th>24563</th>\n",
       "      <td>2018-05-08</td>\n",
       "      <td>Nafta (súper) entre 92 y 95 Ron</td>\n",
       "      <td>ESSO PETROLERA ARGENTINA S.R.L</td>\n",
       "      <td>RIO NEGRO</td>\n",
       "      <td>BARDA DEL MEDIO</td>\n",
       "      <td>20.18</td>\n",
       "    </tr>\n",
       "  </tbody>\n",
       "</table>\n",
       "</div>"
      ],
      "text/plain": [
       "      fecha_vigencia                          producto  \\\n",
       "9175      2018-05-16                               GNC   \n",
       "15295     2018-05-10                   Gas Oil Grado 2   \n",
       "15297     2018-05-10                   Gas Oil Grado 3   \n",
       "24561     2018-05-08  Nafta (premium) de más de 95 Ron   \n",
       "24563     2018-05-08   Nafta (súper) entre 92 y 95 Ron   \n",
       "\n",
       "                       empresabandera     provincia        localidad  precio  \n",
       "9175                           BLANCA  BUENOS AIRES        LLAVALLOL    9.99  \n",
       "15295                       PETROBRAS     RIO NEGRO    SIERRA GRANDE   20.94  \n",
       "15297                       PETROBRAS     RIO NEGRO    SIERRA GRANDE   23.56  \n",
       "24561  ESSO PETROLERA ARGENTINA S.R.L     RIO NEGRO  BARDA DEL MEDIO   22.96  \n",
       "24563  ESSO PETROLERA ARGENTINA S.R.L     RIO NEGRO  BARDA DEL MEDIO   20.18  "
      ]
     },
     "execution_count": 15,
     "metadata": {},
     "output_type": "execute_result"
    }
   ],
   "source": [
    "precios_actuales_altos = precios_mes_actual.loc[precios_mes_actual.groupby(by='producto')['precio'].idxmin() ]\n",
    "precios_actuales_altos[['fecha_vigencia', 'producto', 'empresabandera', 'provincia', 'localidad', 'precio']]"
   ]
  },
  {
   "cell_type": "markdown",
   "metadata": {},
   "source": [
    "### ¿Cuántas estaciones de servios de cada empresa hay?\n",
    "`.value_counts()` devulve la cantidad de valores iguales encontrados en una columna"
   ]
  },
  {
   "cell_type": "code",
   "execution_count": 16,
   "metadata": {},
   "outputs": [
    {
     "data": {
      "text/plain": [
       "YPF                               12916\n",
       "SHELL C.A.P.S.A.                   5528\n",
       "BLANCA                             5307\n",
       "ESSO PETROLERA ARGENTINA S.R.L     3250\n",
       "OIL COMBUSTIBLES S.A.              2374\n",
       "PETROBRAS                          2208\n",
       "AXION                               924\n",
       "REFINOR                             530\n",
       "SOL PETROLEO                        346\n",
       "ASPRO                               170\n",
       "PUMA                                 96\n",
       "PDV sur                              36\n",
       "Pampa Energia                        24\n",
       "AGIRA                                20\n",
       "DAPSA S.A.                           18\n",
       "CAMUZZI GAS DEL SUR                  16\n",
       "RHASA                                10\n",
       "CIS                                   8\n",
       "Name: empresabandera, dtype: int64"
      ]
     },
     "execution_count": 16,
     "metadata": {},
     "output_type": "execute_result"
    }
   ],
   "source": [
    "cantidad = precios['empresabandera'].value_counts()\n",
    "cantidad"
   ]
  },
  {
   "cell_type": "markdown",
   "metadata": {},
   "source": [
    "`.plot()` es un método que permite realizar distintos tipos de gráficos de manera rápida."
   ]
  },
  {
   "cell_type": "code",
   "execution_count": 17,
   "metadata": {},
   "outputs": [
    {
     "data": {
      "text/plain": [
       "<matplotlib.axes._subplots.AxesSubplot at 0x7f1ef3c6a4a8>"
      ]
     },
     "execution_count": 17,
     "metadata": {},
     "output_type": "execute_result"
    },
    {
     "data": {
      "image/png": "[encoded data removed]",
      "text/plain": [
       "<matplotlib.figure.Figure at 0x7f1ef3e412b0>"
      ]
     },
     "metadata": {},
     "output_type": "display_data"
    }
   ],
   "source": [
    "cantidad.plot(kind='bar', figsize=(15, 5))"
   ]
  },
  {
   "cell_type": "markdown",
   "metadata": {},
   "source": [
    "### ¿Cómo fue el comportamiento de cada combustible en Corrientes?"
   ]
  },
  {
   "cell_type": "code",
   "execution_count": 18,
   "metadata": {},
   "outputs": [
    {
     "data": {
      "image/png": "[encoded data removed]",
      "text/plain": [
       "<matplotlib.figure.Figure at 0x7f1ef1bd0e80>"
      ]
     },
     "metadata": {},
     "output_type": "display_data"
    }
   ],
   "source": [
    "figure = plt.axes()\n",
    "figure.figure.set_size_inches(15, 10)\n",
    "\n",
    "for combustible in combustibles:\n",
    "    combustible_corrientes = precios[\n",
    "        (precios['producto'] == combustible) \n",
    "        & (precios['provincia'] == 'CORRIENTES')\n",
    "    ]\n",
    "\n",
    "    if not combustible_corrientes.empty:\n",
    "        combustible_corrientes = combustible_corrientes[['fecha_vigencia', 'empresabandera', 'producto', 'precio']]\n",
    "        combustible_corrientes.set_index(['fecha_vigencia'], inplace=True)\n",
    "        combustible_corrientes.rename(columns={'precio': combustible}, inplace=True)\n",
    "\n",
    "        combustible_corrientes.plot(ax=figure)\n",
    "    \n",
    "plt.show()"
   ]
  },
  {
   "cell_type": "markdown",
   "metadata": {},
   "source": [
    "### ¿Cómo ha variado cada empresa los precios de la Nafta Super en Buenos Aires?"
   ]
  },
  {
   "cell_type": "code",
   "execution_count": 25,
   "metadata": {},
   "outputs": [],
   "source": [
    "empresas = [\n",
    "    'AXION', \n",
    "    'YPF', \n",
    "    'ESSO PETROLERA ARGENTINA S.R.L', \n",
    "    'PETROBRAS', \n",
    "    'SHELL C.A.P.S.A.', \n",
    "    'OIL COMBUSTIBLES S.A.'\n",
    "]\n",
    "\n",
    "precios_baires = precios[\n",
    "    (precios['empresabandera'].isin(empresas))\n",
    "    & (precios['provincia'] == 'BUENOS AIRES')\n",
    "    & (precios['producto'] == 'Nafta (súper) entre 92 y 95 Ron')\n",
    "]\n",
    "\n",
    "precios_baires = precios_baires[['empresabandera', 'fecha_vigencia', 'precio']]\n",
    "precio_minimos_empresa_idx = precios_baires.groupby(by='empresabandera')['fecha_vigencia'].idxmin()\n",
    "precio_maximos_empresa_idx = precios_baires.groupby(by='empresabandera')['fecha_vigencia'].idxmax()"
   ]
  },
  {
   "cell_type": "code",
   "execution_count": 26,
   "metadata": {},
   "outputs": [
    {
     "data": {
      "text/html": [
       "<div>\n",
       "<style scoped>\n",
       "    .dataframe tbody tr th:only-of-type {\n",
       "        vertical-align: middle;\n",
       "    }\n",
       "\n",
       "    .dataframe tbody tr th {\n",
       "        vertical-align: top;\n",
       "    }\n",
       "\n",
       "    .dataframe thead th {\n",
       "        text-align: right;\n",
       "    }\n",
       "</style>\n",
       "<table border=\"1\" class=\"dataframe\">\n",
       "  <thead>\n",
       "    <tr style=\"text-align: right;\">\n",
       "      <th></th>\n",
       "      <th>fecha_vigencia</th>\n",
       "      <th>precio</th>\n",
       "    </tr>\n",
       "    <tr>\n",
       "      <th>empresabandera</th>\n",
       "      <th></th>\n",
       "      <th></th>\n",
       "    </tr>\n",
       "  </thead>\n",
       "  <tbody>\n",
       "    <tr>\n",
       "      <th>AXION</th>\n",
       "      <td>2018-01-19</td>\n",
       "      <td>24.37</td>\n",
       "    </tr>\n",
       "    <tr>\n",
       "      <th>ESSO PETROLERA ARGENTINA S.R.L</th>\n",
       "      <td>2017-03-07</td>\n",
       "      <td>17.50</td>\n",
       "    </tr>\n",
       "    <tr>\n",
       "      <th>OIL COMBUSTIBLES S.A.</th>\n",
       "      <td>2017-02-10</td>\n",
       "      <td>19.49</td>\n",
       "    </tr>\n",
       "    <tr>\n",
       "      <th>PETROBRAS</th>\n",
       "      <td>2017-03-31</td>\n",
       "      <td>20.98</td>\n",
       "    </tr>\n",
       "    <tr>\n",
       "      <th>SHELL C.A.P.S.A.</th>\n",
       "      <td>2017-01-17</td>\n",
       "      <td>21.19</td>\n",
       "    </tr>\n",
       "    <tr>\n",
       "      <th>YPF</th>\n",
       "      <td>2017-02-10</td>\n",
       "      <td>20.99</td>\n",
       "    </tr>\n",
       "  </tbody>\n",
       "</table>\n",
       "</div>"
      ],
      "text/plain": [
       "                               fecha_vigencia  precio\n",
       "empresabandera                                       \n",
       "AXION                              2018-01-19   24.37\n",
       "ESSO PETROLERA ARGENTINA S.R.L     2017-03-07   17.50\n",
       "OIL COMBUSTIBLES S.A.              2017-02-10   19.49\n",
       "PETROBRAS                          2017-03-31   20.98\n",
       "SHELL C.A.P.S.A.                   2017-01-17   21.19\n",
       "YPF                                2017-02-10   20.99"
      ]
     },
     "execution_count": 26,
     "metadata": {},
     "output_type": "execute_result"
    }
   ],
   "source": [
    "precio_minimos_empresa = precios_baires.loc[precio_minimos_empresa_idx].set_index('empresabandera')\n",
    "precio_minimos_empresa"
   ]
  },
  {
   "cell_type": "code",
   "execution_count": 27,
   "metadata": {},
   "outputs": [
    {
     "data": {
      "text/html": [
       "<div>\n",
       "<style scoped>\n",
       "    .dataframe tbody tr th:only-of-type {\n",
       "        vertical-align: middle;\n",
       "    }\n",
       "\n",
       "    .dataframe tbody tr th {\n",
       "        vertical-align: top;\n",
       "    }\n",
       "\n",
       "    .dataframe thead th {\n",
       "        text-align: right;\n",
       "    }\n",
       "</style>\n",
       "<table border=\"1\" class=\"dataframe\">\n",
       "  <thead>\n",
       "    <tr style=\"text-align: right;\">\n",
       "      <th></th>\n",
       "      <th>fecha_vigencia</th>\n",
       "      <th>precio</th>\n",
       "    </tr>\n",
       "    <tr>\n",
       "      <th>empresabandera</th>\n",
       "      <th></th>\n",
       "      <th></th>\n",
       "    </tr>\n",
       "  </thead>\n",
       "  <tbody>\n",
       "    <tr>\n",
       "      <th>AXION</th>\n",
       "      <td>2018-05-14</td>\n",
       "      <td>26.98</td>\n",
       "    </tr>\n",
       "    <tr>\n",
       "      <th>ESSO PETROLERA ARGENTINA S.R.L</th>\n",
       "      <td>2018-05-14</td>\n",
       "      <td>27.98</td>\n",
       "    </tr>\n",
       "    <tr>\n",
       "      <th>OIL COMBUSTIBLES S.A.</th>\n",
       "      <td>2018-05-12</td>\n",
       "      <td>25.98</td>\n",
       "    </tr>\n",
       "    <tr>\n",
       "      <th>PETROBRAS</th>\n",
       "      <td>2018-05-15</td>\n",
       "      <td>26.59</td>\n",
       "    </tr>\n",
       "    <tr>\n",
       "      <th>SHELL C.A.P.S.A.</th>\n",
       "      <td>2018-05-16</td>\n",
       "      <td>26.78</td>\n",
       "    </tr>\n",
       "    <tr>\n",
       "      <th>YPF</th>\n",
       "      <td>2018-05-10</td>\n",
       "      <td>26.59</td>\n",
       "    </tr>\n",
       "  </tbody>\n",
       "</table>\n",
       "</div>"
      ],
      "text/plain": [
       "                               fecha_vigencia  precio\n",
       "empresabandera                                       \n",
       "AXION                              2018-05-14   26.98\n",
       "ESSO PETROLERA ARGENTINA S.R.L     2018-05-14   27.98\n",
       "OIL COMBUSTIBLES S.A.              2018-05-12   25.98\n",
       "PETROBRAS                          2018-05-15   26.59\n",
       "SHELL C.A.P.S.A.                   2018-05-16   26.78\n",
       "YPF                                2018-05-10   26.59"
      ]
     },
     "execution_count": 27,
     "metadata": {},
     "output_type": "execute_result"
    }
   ],
   "source": [
    "precio_maximos_empresa = precios_baires.loc[precio_maximos_empresa_idx].set_index('empresabandera')\n",
    "precio_maximos_empresa"
   ]
  },
  {
   "cell_type": "markdown",
   "metadata": {},
   "source": [
    "`.join()` une dos o más DataFrame através de su índice. El parámetro `lsuffix` es una string que se agregará al final del nombre de cada columna del dataframe que se encuentra a la izquierda (En nuestro caso, precio_maximos_empresa) y `rsuffix` es lo mismo pero para el dataframe que se encuentra a la derecha (precio_minimos_empresa)."
   ]
  },
  {
   "cell_type": "code",
   "execution_count": 28,
   "metadata": {},
   "outputs": [
    {
     "data": {
      "text/html": [
       "<div>\n",
       "<style scoped>\n",
       "    .dataframe tbody tr th:only-of-type {\n",
       "        vertical-align: middle;\n",
       "    }\n",
       "\n",
       "    .dataframe tbody tr th {\n",
       "        vertical-align: top;\n",
       "    }\n",
       "\n",
       "    .dataframe thead th {\n",
       "        text-align: right;\n",
       "    }\n",
       "</style>\n",
       "<table border=\"1\" class=\"dataframe\">\n",
       "  <thead>\n",
       "    <tr style=\"text-align: right;\">\n",
       "      <th></th>\n",
       "      <th>fecha_vigencia_max</th>\n",
       "      <th>precio_max</th>\n",
       "      <th>fecha_vigencia_min</th>\n",
       "      <th>precio_min</th>\n",
       "    </tr>\n",
       "    <tr>\n",
       "      <th>empresabandera</th>\n",
       "      <th></th>\n",
       "      <th></th>\n",
       "      <th></th>\n",
       "      <th></th>\n",
       "    </tr>\n",
       "  </thead>\n",
       "  <tbody>\n",
       "    <tr>\n",
       "      <th>AXION</th>\n",
       "      <td>2018-05-14</td>\n",
       "      <td>26.98</td>\n",
       "      <td>2018-01-19</td>\n",
       "      <td>24.37</td>\n",
       "    </tr>\n",
       "    <tr>\n",
       "      <th>ESSO PETROLERA ARGENTINA S.R.L</th>\n",
       "      <td>2018-05-14</td>\n",
       "      <td>27.98</td>\n",
       "      <td>2017-03-07</td>\n",
       "      <td>17.50</td>\n",
       "    </tr>\n",
       "    <tr>\n",
       "      <th>OIL COMBUSTIBLES S.A.</th>\n",
       "      <td>2018-05-12</td>\n",
       "      <td>25.98</td>\n",
       "      <td>2017-02-10</td>\n",
       "      <td>19.49</td>\n",
       "    </tr>\n",
       "    <tr>\n",
       "      <th>PETROBRAS</th>\n",
       "      <td>2018-05-15</td>\n",
       "      <td>26.59</td>\n",
       "      <td>2017-03-31</td>\n",
       "      <td>20.98</td>\n",
       "    </tr>\n",
       "    <tr>\n",
       "      <th>SHELL C.A.P.S.A.</th>\n",
       "      <td>2018-05-16</td>\n",
       "      <td>26.78</td>\n",
       "      <td>2017-01-17</td>\n",
       "      <td>21.19</td>\n",
       "    </tr>\n",
       "    <tr>\n",
       "      <th>YPF</th>\n",
       "      <td>2018-05-10</td>\n",
       "      <td>26.59</td>\n",
       "      <td>2017-02-10</td>\n",
       "      <td>20.99</td>\n",
       "    </tr>\n",
       "  </tbody>\n",
       "</table>\n",
       "</div>"
      ],
      "text/plain": [
       "                               fecha_vigencia_max  precio_max  \\\n",
       "empresabandera                                                  \n",
       "AXION                                  2018-05-14       26.98   \n",
       "ESSO PETROLERA ARGENTINA S.R.L         2018-05-14       27.98   \n",
       "OIL COMBUSTIBLES S.A.                  2018-05-12       25.98   \n",
       "PETROBRAS                              2018-05-15       26.59   \n",
       "SHELL C.A.P.S.A.                       2018-05-16       26.78   \n",
       "YPF                                    2018-05-10       26.59   \n",
       "\n",
       "                               fecha_vigencia_min  precio_min  \n",
       "empresabandera                                                 \n",
       "AXION                                  2018-01-19       24.37  \n",
       "ESSO PETROLERA ARGENTINA S.R.L         2017-03-07       17.50  \n",
       "OIL COMBUSTIBLES S.A.                  2017-02-10       19.49  \n",
       "PETROBRAS                              2017-03-31       20.98  \n",
       "SHELL C.A.P.S.A.                       2017-01-17       21.19  \n",
       "YPF                                    2017-02-10       20.99  "
      ]
     },
     "execution_count": 28,
     "metadata": {},
     "output_type": "execute_result"
    }
   ],
   "source": [
    "precios_min_max = precio_maximos_empresa.join(precio_minimos_empresa, lsuffix='_max', rsuffix='_min')\n",
    "precios_min_max"
   ]
  },
  {
   "cell_type": "code",
   "execution_count": 29,
   "metadata": {},
   "outputs": [
    {
     "data": {
      "text/plain": [
       "<matplotlib.axes._subplots.AxesSubplot at 0x7f1ef18d3f28>"
      ]
     },
     "execution_count": 29,
     "metadata": {},
     "output_type": "execute_result"
    },
    {
     "data": {
      "image/png": "[encoded data removed]",
      "text/plain": [
       "<matplotlib.figure.Figure at 0x7f1ef18e4cf8>"
      ]
     },
     "metadata": {},
     "output_type": "display_data"
    }
   ],
   "source": [
    "precios_min_max[['precio_max', 'precio_min']].plot(kind='bar', figsize=(15, 5))"
   ]
  },
  {
   "cell_type": "markdown",
   "metadata": {},
   "source": [
    "# Conclusión\n",
    "El análisis de datos consiste en conocer qué datos tenemos, cuales son sus características, explorar esos datos, comprender como se comportan las variables, pero lo más importante es **Hacerse preguntas y tratar de responderlas através de los datos.**\n",
    "- Fuente de datos: http://datos.gob.ar/dataset/precios-surtidor---resolucion-3142016"
   ]
  },
  {
   "cell_type": "markdown",
   "metadata": {},
   "source": [
    "### Algunos tips\n",
    "* Soporta a múltiples formatos para leer y escribir:\n",
    "    - CSV\n",
    "    - HTML\n",
    "    - JSON\n",
    "    - Excel\n",
    "    - SQL pd.read_sql(<span style=\"color:#C30019\"> 'SELECT * FROM some_table'</span>, connection) /  pd.to_sql(<span style=\"color:#C30019\">'some_table'</span>, connection)\n",
    "    - [Y muchos más](https://pandas.pydata.org/pandas-docs/stable/io.html)\n",
    "* El límite de un `DataFrame` es el límite de la memoria RAM.\n",
    "* Me gustó! ¿Por donde empiezo?\n",
    "    - [Cookbook](https://pandas.pydata.org/pandas-docs/stable/10min.html)\n",
    "    - [10 Minutes to pandas](https://pandas.pydata.org/pandas-docs/stable/10min.html)"
   ]
  },
  {
   "attachments": {},
   "cell_type": "markdown",
   "metadata": {},
   "source": [
    "# Muchas gracias!\n",
    "https://medium.com/@cristhianboujon\n",
    "\n",
    "https://www.linkedin.com/in/cristhian-boujon/"
   ]
  },
  {
   "cell_type": "code",
   "execution_count": null,
   "metadata": {},
   "outputs": [],
   "source": []
  }
 ],
 "metadata": {
  "kernelspec": {
   "display_name": "Python 3",
   "language": "python",
   "name": "python3"
  },
  "language_info": {
   "codemirror_mode": {
    "name": "ipython",
    "version": 3
   },
   "file_extension": ".py",
   "mimetype": "text/x-python",
   "name": "python",
   "nbconvert_exporter": "python",
   "pygments_lexer": "ipython3",
   "version": "3.5.2"
  }
 },
 "nbformat": 4,
 "nbformat_minor": 2
}
