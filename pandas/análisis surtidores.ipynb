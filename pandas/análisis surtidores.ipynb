{
 "cells": [
  {
   "cell_type": "code",
   "execution_count": null,
   "metadata": {},
   "outputs": [],
   "source": [
    "import pandas as pd\n",
    "from datetime import datetime\n",
    "import matplotlib.pyplot as plt"
   ]
  },
  {
   "cell_type": "code",
   "execution_count": null,
   "metadata": {},
   "outputs": [],
   "source": [
    "precios = pd.read_csv('precios-en-surtidor-resolucin-3142016.csv')"
   ]
  },
  {
   "cell_type": "markdown",
   "metadata": {},
   "source": [
    "# ¿Qué tenemos en éste dataset?\n",
    "\n",
    "La propiedad `.shape` nos da las dimensiones que tiene el dataset (filas, columnas)"
   ]
  },
  {
   "cell_type": "code",
   "execution_count": null,
   "metadata": {},
   "outputs": [],
   "source": [
    "precios.shape"
   ]
  },
  {
   "cell_type": "markdown",
   "metadata": {},
   "source": [
    "El método `head()` nos permite ver las primeras N filas (5 por default)."
   ]
  },
  {
   "cell_type": "code",
   "execution_count": null,
   "metadata": {},
   "outputs": [],
   "source": [
    "precios.head()"
   ]
  },
  {
   "cell_type": "markdown",
   "metadata": {},
   "source": [
    "El método `describe()` nos muestra un poco de estadística descriptiba sobre aquellas columnas numéricas"
   ]
  },
  {
   "cell_type": "code",
   "execution_count": null,
   "metadata": {},
   "outputs": [],
   "source": [
    "precios.describe()"
   ]
  },
  {
   "cell_type": "markdown",
   "metadata": {},
   "source": [
    "El método `info()` nos da información sobre las columnas que tiene el dataset, la cantidad filas que tienen datos (non-null) en la misma y el tipo de dato."
   ]
  },
  {
   "cell_type": "code",
   "execution_count": null,
   "metadata": {},
   "outputs": [],
   "source": [
    "precios.info()"
   ]
  },
  {
   "cell_type": "markdown",
   "metadata": {},
   "source": [
    "# Preparación y tranformación de datos"
   ]
  },
  {
   "cell_type": "markdown",
   "metadata": {},
   "source": [
    "Cuando trabajamos con datos de fuentes externas a las cuales no tenemos control, siempre necesitaremos manipular y traformar esos datos según nuestras necesidades."
   ]
  },
  {
   "cell_type": "markdown",
   "metadata": {},
   "source": [
    "### Primer paso: Quitar horas y minutos\n",
    "Lo primero que haremos, es quitar la hora y los minutos porque no nos interesan.\n",
    "\n",
    "`.str` es una propiedad que nos permite acceder a métodos y atributos específios para la manipulación de strings."
   ]
  },
  {
   "cell_type": "code",
   "execution_count": null,
   "metadata": {},
   "outputs": [],
   "source": [
    "precios['fecha_vigencia'] = precios['fecha_vigencia'].str.slice(0, 10)  # '27/03/2017 10:38' -> '27/03/2017'\n",
    "precios.head()"
   ]
  },
  {
   "cell_type": "markdown",
   "metadata": {},
   "source": [
    "### Segundo paso: Convertir string a Date\n",
    "Pandas interpretó la columna `fecha_vigencia` como string porque no conoce el formato de fecha que tiene, sin embargo, nosotros necesitamos que pandas entienda que dicha columna es una fecha. \n",
    "\n",
    "`.to_datetime()` convierte un string a un objeto de tipo DateTime."
   ]
  },
  {
   "cell_type": "code",
   "execution_count": null,
   "metadata": {},
   "outputs": [],
   "source": [
    "precios[\"fecha_vigencia\"] = pd.to_datetime(precios[\"fecha_vigencia\"])\n",
    "precios.info()"
   ]
  },
  {
   "cell_type": "markdown",
   "metadata": {},
   "source": [
    "# Algunas preguntas a responder..."
   ]
  },
  {
   "cell_type": "markdown",
   "metadata": {},
   "source": [
    "### ¿Cuál es la fecha de la primer medición? ¿Y cuál fue su precio?\n",
    "`.idxmin()` devuelve el índice correspondiente al menor valor de una columna determinada, en nuestro caso `fecha_vigencia`\n",
    "\n",
    "`.loc` nos permite acceder a filas através del índice"
   ]
  },
  {
   "cell_type": "code",
   "execution_count": null,
   "metadata": {},
   "outputs": [],
   "source": [
    "indice = precios['fecha_vigencia'].idxmin()\n",
    "print(indice)\n",
    "\n",
    "precios.loc[ indice ]"
   ]
  },
  {
   "cell_type": "markdown",
   "metadata": {},
   "source": [
    "### ¿Cuál es la fecha de la última medición? ¿Y cuál fue su precio?\n",
    "`.idxmax()` devuelve el índice correspondiente al mayor valor de una columna determinada, en nuestro caso `fecha_vigencia`\n"
   ]
  },
  {
   "cell_type": "code",
   "execution_count": null,
   "metadata": {},
   "outputs": [],
   "source": [
    "indice = precios['fecha_vigencia'].idxmax()\n",
    "print(indice)\n",
    "\n",
    "precios.loc[ precios['fecha_vigencia'].idxmax() ]"
   ]
  },
  {
   "cell_type": "markdown",
   "metadata": {},
   "source": [
    "### ¿Donde el precio de la nafta es más caro?"
   ]
  },
  {
   "cell_type": "code",
   "execution_count": null,
   "metadata": {},
   "outputs": [],
   "source": [
    "precios.loc[ precios['precio'].idxmax() ]"
   ]
  },
  {
   "cell_type": "markdown",
   "metadata": {},
   "source": [
    "### ¿Cuales son los combustibles que disponemos en el dataset?\n",
    "`.unique()` nos devuelve un array con todos los valores que hay en una columna sin repetir."
   ]
  },
  {
   "cell_type": "code",
   "execution_count": null,
   "metadata": {},
   "outputs": [],
   "source": [
    "combustibles = precios['producto'].unique()\n",
    "combustibles"
   ]
  },
  {
   "cell_type": "markdown",
   "metadata": {},
   "source": [
    "### Para cada tipo de combustible... ¿Donde se encuentra el más caro en lo que va de éste mes?¿Y los más baratos?\n",
    "#### los más caros\n",
    "`.dt` (abreviación de **d**ate**t**ime) es una propiedad que nos permite acceder a métodos y atributos específios para la manipulación de fechas. \n",
    "\n",
    "`.groupby()` agrupa un conjunto de filas según una o más columnas. Es equivalente a la cláusula `GROUP BY` de `SQL`"
   ]
  },
  {
   "cell_type": "code",
   "execution_count": null,
   "metadata": {},
   "outputs": [],
   "source": [
    "precios_mes_actual = precios[\n",
    "    (precios['fecha_vigencia'].dt.month == 5) & (precios['fecha_vigencia'].dt.year == 2018) \n",
    "]"
   ]
  },
  {
   "cell_type": "code",
   "execution_count": null,
   "metadata": {},
   "outputs": [],
   "source": [
    "precios_actuales_altos = precios_mes_actual.loc[precios_mes_actual.groupby(by='producto')['precio'].idxmax() ]\n",
    "precios_actuales_altos[['fecha_vigencia', 'producto', 'empresabandera', 'provincia', 'localidad', 'precio']]"
   ]
  },
  {
   "cell_type": "markdown",
   "metadata": {},
   "source": [
    "#### Los más baratos"
   ]
  },
  {
   "cell_type": "code",
   "execution_count": null,
   "metadata": {},
   "outputs": [],
   "source": [
    "precios_actuales_altos = precios_mes_actual.loc[precios_mes_actual.groupby(by='producto')['precio'].idxmin() ]\n",
    "precios_actuales_altos[['fecha_vigencia', 'producto', 'empresabandera', 'provincia', 'localidad', 'precio']]"
   ]
  },
  {
   "cell_type": "markdown",
   "metadata": {},
   "source": [
    "### ¿Cuántas estaciones de servios de cada empresa hay?\n",
    "`.value_counts()` devulve la cantidad de valores iguales encontrados en una columna"
   ]
  },
  {
   "cell_type": "code",
   "execution_count": null,
   "metadata": {},
   "outputs": [],
   "source": [
    "cantidad = precios['empresabandera'].value_counts()\n",
    "cantidad"
   ]
  },
  {
   "cell_type": "markdown",
   "metadata": {},
   "source": [
    "`.plot()` es un método que permite realizar distintos tipos de gráficos de manera rápida."
   ]
  },
  {
   "cell_type": "code",
   "execution_count": null,
   "metadata": {},
   "outputs": [],
   "source": [
    "cantidad.plot(kind='bar', figsize=(15, 5))"
   ]
  },
  {
   "cell_type": "markdown",
   "metadata": {},
   "source": [
    "### ¿Cómo fue el comportamiento de cada combustible en Corrientes?"
   ]
  },
  {
   "cell_type": "code",
   "execution_count": null,
   "metadata": {},
   "outputs": [],
   "source": [
    "figure = plt.axes()\n",
    "figure.figure.set_size_inches(15, 10)\n",
    "\n",
    "for combustible in combustibles:\n",
    "    combustible_corrientes = precios[\n",
    "        (precios['producto'] == combustible) \n",
    "        & (precios['provincia'] == 'CORRIENTES')\n",
    "    ]\n",
    "\n",
    "    if not combustible_corrientes.empty:\n",
    "        combustible_corrientes = combustible_corrientes[['fecha_vigencia', 'empresabandera', 'producto', 'precio']]\n",
    "        combustible_corrientes.set_index(['fecha_vigencia'], inplace=True)\n",
    "        combustible_corrientes.rename(columns={'precio': combustible}, inplace=True)\n",
    "\n",
    "        combustible_corrientes.plot(ax=figure)\n",
    "    \n",
    "plt.show()"
   ]
  },
  {
   "cell_type": "markdown",
   "metadata": {},
   "source": [
    "### ¿Cómo ha variado cada empresa los precios de la Nafta Super en Buenos Aires?"
   ]
  },
  {
   "cell_type": "code",
   "execution_count": null,
   "metadata": {},
   "outputs": [],
   "source": [
    "empresas = [\n",
    "    'AXION', \n",
    "    'YPF', \n",
    "    'ESSO PETROLERA ARGENTINA S.R.L', \n",
    "    'PETROBRAS', \n",
    "    'SHELL C.A.P.S.A.', \n",
    "    'OIL COMBUSTIBLES S.A.'\n",
    "]\n",
    "\n",
    "precios_baires = precios[\n",
    "    (precios['empresabandera'].isin(empresas))\n",
    "    & (precios['provincia'] == 'BUENOS AIRES')\n",
    "    & (precios['producto'] == 'Nafta (súper) entre 92 y 95 Ron')\n",
    "]\n",
    "\n",
    "precios_baires = precios_baires[['empresabandera', 'fecha_vigencia', 'precio']]\n",
    "precio_minimos_empresa_idx = precios_baires.groupby(by='empresabandera')['fecha_vigencia'].idxmin()\n",
    "precio_maximos_empresa_idx = precios_baires.groupby(by='empresabandera')['fecha_vigencia'].idxmax()"
   ]
  },
  {
   "cell_type": "code",
   "execution_count": null,
   "metadata": {},
   "outputs": [],
   "source": [
    "precio_minimos_empresa = precios_baires.loc[precio_minimos_empresa_idx].set_index('empresabandera')\n",
    "precio_minimos_empresa"
   ]
  },
  {
   "cell_type": "code",
   "execution_count": null,
   "metadata": {},
   "outputs": [],
   "source": [
    "precio_maximos_empresa = precios_baires.loc[precio_maximos_empresa_idx].set_index('empresabandera')\n",
    "precio_maximos_empresa"
   ]
  },
  {
   "cell_type": "markdown",
   "metadata": {},
   "source": [
    "`.join()` une dos o más DataFrame através de su índice. El parámetro `lsuffix` es una string que se agregará al final del nombre de cada columna del dataframe que se encuentra a la izquierda (En nuestro caso, precio_maximos_empresa) y `rsuffix` es lo mismo pero para el dataframe que se encuentra a la derecha (precio_minimos_empresa)."
   ]
  },
  {
   "cell_type": "code",
   "execution_count": null,
   "metadata": {},
   "outputs": [],
   "source": [
    "precios_min_max = precio_maximos_empresa.join(precio_minimos_empresa, lsuffix='_max', rsuffix='_min')\n",
    "precios_min_max"
   ]
  },
  {
   "cell_type": "code",
   "execution_count": null,
   "metadata": {},
   "outputs": [],
   "source": [
    "precios_min_max[['precio_max', 'precio_min']].plot(kind='bar', figsize=(15, 5))"
   ]
  },
  {
   "cell_type": "markdown",
   "metadata": {},
   "source": [
    "# Conclusión\n",
    "El análisis de datos consiste en conocer qué datos tenemos, cuales son sus características, explorar esos datos, comprender como se comportan las variables, pero lo más importante es **Hacerse preguntas y tratar de responderlas através de los datos.**\n",
    "- Fuente de datos: http://datos.gob.ar/dataset/precios-surtidor---resolucion-3142016"
   ]
  },
  {
   "cell_type": "markdown",
   "metadata": {},
   "source": [
    "### Algunos tips\n",
    "* Soporta a múltiples formatos para leer y escribir:\n",
    "    - CSV\n",
    "    - HTML\n",
    "    - JSON\n",
    "    - Excel\n",
    "    - SQL pd.read_sql(<span style=\"color:#C30019\"> 'SELECT * FROM some_table'</span>, connection) /  pd.to_sql(<span style=\"color:#C30019\">'some_table'</span>, connection)\n",
    "    - [Y muchos más](https://pandas.pydata.org/pandas-docs/stable/io.html)\n",
    "* El límite de un `DataFrame` es el límite de la memoria RAM.\n",
    "* Me gustó! ¿Por donde empiezo?\n",
    "    - [Cookbook](https://pandas.pydata.org/pandas-docs/stable/10min.html)\n",
    "    - [10 Minutes to pandas](https://pandas.pydata.org/pandas-docs/stable/10min.html)"
   ]
  },
  {
   "attachments": {},
   "cell_type": "markdown",
   "metadata": {},
   "source": [
    "# Muchas gracias!\n",
    "**Medium** https://medium.com/@cristhianboujon\n",
    "\n",
    "**LinkedIn** https://www.linkedin.com/in/cristhian-boujon/\n",
    "\n",
    "Éste código en **Github**: https://github.com/Overflow012/talks/blob/master/pandas/an%C3%A1lisis%20surtidores.ipynb"
   ]
  }
 ],
 "metadata": {
  "kernelspec": {
   "display_name": "Python 3",
   "language": "python",
   "name": "python3"
  },
  "language_info": {
   "codemirror_mode": {
    "name": "ipython",
    "version": 3
   },
   "file_extension": ".py",
   "mimetype": "text/x-python",
   "name": "python",
   "nbconvert_exporter": "python",
   "pygments_lexer": "ipython3",
   "version": "3.5.2"
  }
 },
 "nbformat": 4,
 "nbformat_minor": 2
}
