{
 "cells": [
  {
   "cell_type": "code",
   "execution_count": 23,
   "metadata": {
    "slideshow": {
     "slide_type": "skip"
    }
   },
   "outputs": [],
   "source": [
    "from IPython.core.interactiveshell import InteractiveShell\n",
    "InteractiveShell.ast_node_interactivity = \"all\""
   ]
  },
  {
   "cell_type": "code",
   "execution_count": 24,
   "metadata": {
    "slideshow": {
     "slide_type": "slide"
    }
   },
   "outputs": [],
   "source": [
    "personas = [\n",
    "    # Nombre, apellido, edad, provincia\n",
    "    ('Carla Maria', 'Sosa', 76, 'Corrientes'),\n",
    "    ('Marianela Monica', 'Gomez', 34, 'Santiago del Estero'),\n",
    "    ('Andrea Antonela', 'Blanco', 21, 'Tucumán'),\n",
    "    ('Maria Carla', 'Fernandez', 36, 'San Luis'),\n",
    "    ('Norma Andrea', 'Bruder', 76, 'San Luis'),\n",
    "    ('Maximiliano Jorge', 'Bruder', 19, 'Entre Ríos'),\n",
    "    ('Carlos Jorge', 'Pralong', 66, 'San Luis'),\n",
    "    ('Luis Jorge', 'Sosa', 43, 'Formosa'),\n",
    "    ('Cesar Juan', 'Gonzalez', 23, 'Corrientes'),\n",
    "    ('José Pedro', 'Pralong', 19, 'Corrientes')    \n",
    "]"
   ]
  },
  {
   "cell_type": "code",
   "execution_count": 25,
   "metadata": {
    "slideshow": {
     "slide_type": "slide"
    }
   },
   "outputs": [
    {
     "data": {
      "text/plain": [
       "[('Marianela Monica', 'Gomez', 34, 'Santiago del Estero'),\n",
       " ('Andrea Antonela', 'Blanco', 21, 'Tucumán'),\n",
       " ('Maria Carla', 'Fernandez', 36, 'San Luis'),\n",
       " ('Maximiliano Jorge', 'Bruder', 19, 'Entre Ríos'),\n",
       " ('Cesar Juan', 'Gonzalez', 23, 'Corrientes'),\n",
       " ('José Pedro', 'Pralong', 19, 'Corrientes')]"
      ]
     },
     "execution_count": 25,
     "metadata": {},
     "output_type": "execute_result"
    }
   ],
   "source": [
    "resultado = []\n",
    "for persona in personas:\n",
    "    if persona[2] < 40:\n",
    "        resultado.append(persona)\n",
    "\n",
    "resultado"
   ]
  },
  {
   "cell_type": "code",
   "execution_count": 26,
   "metadata": {
    "slideshow": {
     "slide_type": "slide"
    }
   },
   "outputs": [
    {
     "data": {
      "text/plain": [
       "[('Carla Maria', 'Sosa', 76, 'Corrientes'),\n",
       " ('Cesar Juan', 'Gonzalez', 23, 'Corrientes'),\n",
       " ('José Pedro', 'Pralong', 19, 'Corrientes')]"
      ]
     },
     "execution_count": 26,
     "metadata": {},
     "output_type": "execute_result"
    }
   ],
   "source": [
    "resultado = []\n",
    "for persona in personas:\n",
    "    if persona[3] == 'Corrientes':\n",
    "        resultado.append(persona)\n",
    "\n",
    "resultado"
   ]
  },
  {
   "cell_type": "code",
   "execution_count": 27,
   "metadata": {
    "slideshow": {
     "slide_type": "slide"
    }
   },
   "outputs": [],
   "source": [
    "personas = [\n",
    "    {'nombre': 'Carla Maria', 'apellido': 'Sosa', 'edad': 76, 'provincia': 'Corrientes'},\n",
    "    {'nombre': 'Marianela Monica', 'apellido': 'Gomez', 'edad': 34, 'provincia': 'Santiago del Estero'},\n",
    "    {'nombre': 'Andrea Antonela', 'apellido': 'Blanco', 'edad': 21, 'provincia': 'Tucumán'},\n",
    "    {'nombre': 'Maria Carla', 'apellido': 'Fernandez', 'edad': 36, 'provincia': 'San Luis'},\n",
    "    {'nombre': 'Norma Andrea', 'apellido': 'Bruder', 'edad': 76, 'provincia': 'San Luis'},\n",
    "    {'nombre': 'Maximiliano Jorge', 'apellido': 'Bruder', 'edad': 19, 'provincia': 'Entre Ríos'},\n",
    "    {'nombre': 'Carlos Jorge', 'apellido': 'Pralong', 'edad': 66, 'provincia': 'San Luis'},\n",
    "    {'nombre': 'Luis Jorge', 'apellido': 'Sosa', 'edad': 43, 'provincia': 'Formosa'},\n",
    "    {'nombre': 'Cesar Juan', 'apellido': 'Gonzalez', 'edad': 23, 'provincia': 'Corrientes'},\n",
    "    {'nombre': 'José Pedro', 'apellido': 'Pralong', 'edad': 19, 'provincia': 'Corrientes'}\n",
    "]"
   ]
  },
  {
   "cell_type": "code",
   "execution_count": 28,
   "metadata": {
    "slideshow": {
     "slide_type": "slide"
    }
   },
   "outputs": [
    {
     "data": {
      "text/plain": [
       "[{'apellido': 'Gomez',\n",
       "  'edad': 34,\n",
       "  'nombre': 'Marianela Monica',\n",
       "  'provincia': 'Santiago del Estero'},\n",
       " {'apellido': 'Blanco',\n",
       "  'edad': 21,\n",
       "  'nombre': 'Andrea Antonela',\n",
       "  'provincia': 'Tucumán'},\n",
       " {'apellido': 'Fernandez',\n",
       "  'edad': 36,\n",
       "  'nombre': 'Maria Carla',\n",
       "  'provincia': 'San Luis'},\n",
       " {'apellido': 'Bruder',\n",
       "  'edad': 19,\n",
       "  'nombre': 'Maximiliano Jorge',\n",
       "  'provincia': 'Entre Ríos'},\n",
       " {'apellido': 'Gonzalez',\n",
       "  'edad': 23,\n",
       "  'nombre': 'Cesar Juan',\n",
       "  'provincia': 'Corrientes'},\n",
       " {'apellido': 'Pralong',\n",
       "  'edad': 19,\n",
       "  'nombre': 'José Pedro',\n",
       "  'provincia': 'Corrientes'}]"
      ]
     },
     "execution_count": 28,
     "metadata": {},
     "output_type": "execute_result"
    }
   ],
   "source": [
    "resultado = []\n",
    "for persona in personas:\n",
    "    if persona['edad'] < 40:\n",
    "        resultado.append(persona)\n",
    "\n",
    "resultado"
   ]
  },
  {
   "cell_type": "code",
   "execution_count": 29,
   "metadata": {
    "slideshow": {
     "slide_type": "slide"
    }
   },
   "outputs": [
    {
     "data": {
      "text/plain": [
       "[{'apellido': 'Sosa',\n",
       "  'edad': 76,\n",
       "  'nombre': 'Carla Maria',\n",
       "  'provincia': 'Corrientes'},\n",
       " {'apellido': 'Gonzalez',\n",
       "  'edad': 23,\n",
       "  'nombre': 'Cesar Juan',\n",
       "  'provincia': 'Corrientes'},\n",
       " {'apellido': 'Pralong',\n",
       "  'edad': 19,\n",
       "  'nombre': 'José Pedro',\n",
       "  'provincia': 'Corrientes'}]"
      ]
     },
     "execution_count": 29,
     "metadata": {},
     "output_type": "execute_result"
    }
   ],
   "source": [
    "resultado = []\n",
    "for persona in personas:\n",
    "    if persona['provincia'] == 'Corrientes':\n",
    "        resultado.append(persona)\n",
    "\n",
    "resultado"
   ]
  },
  {
   "cell_type": "code",
   "execution_count": 30,
   "metadata": {
    "slideshow": {
     "slide_type": "slide"
    }
   },
   "outputs": [
    {
     "data": {
      "text/plain": [
       "[76, 34, 21, 36, 76, 19, 66, 43, 23, 19]"
      ]
     },
     "execution_count": 30,
     "metadata": {},
     "output_type": "execute_result"
    },
    {
     "data": {
      "text/plain": [
       "19"
      ]
     },
     "execution_count": 30,
     "metadata": {},
     "output_type": "execute_result"
    },
    {
     "data": {
      "text/plain": [
       "76"
      ]
     },
     "execution_count": 30,
     "metadata": {},
     "output_type": "execute_result"
    },
    {
     "data": {
      "text/plain": [
       "41.3"
      ]
     },
     "execution_count": 30,
     "metadata": {},
     "output_type": "execute_result"
    }
   ],
   "source": [
    "edades = []\n",
    "for persona in personas:\n",
    "    edades.append(persona['edad'])\n",
    "\n",
    "edades\n",
    "\n",
    "edad_minima = min(edades)\n",
    "edad_minima\n",
    "\n",
    "edad_maxima = max(edades)\n",
    "edad_maxima\n",
    "\n",
    "edad_promedio = sum(edades) / len(edades)\n",
    "edad_promedio"
   ]
  },
  {
   "cell_type": "code",
   "execution_count": 31,
   "metadata": {
    "slideshow": {
     "slide_type": "slide"
    }
   },
   "outputs": [],
   "source": [
    "        personas = [\n",
    "    {'nombre': 'Carla Maria', 'apellido': 'Sosa', 'edad': 76, 'provincia': 'Corrientes'},\n",
    "    {'nombre': 'Marianela Monica', 'apellido': 'Gomez', 'edad': 34, 'provincia': 'Santiago del Estero'},\n",
    "    {'nombre': 'Andrea Antonela', 'apellido': 'Blanco', 'edad': 21, 'provincia': 'Tucumán'},\n",
    "    {'nombre': 'Maria Carla', 'apellido': 'Fernandez', 'edad': 36, 'provincia': 'San Luis'},\n",
    "    {'nombre': 'Norma Andrea', 'apellido': 'Bruder', 'edad': 76, 'provincia': 'San Luis'},\n",
    "    {'nombre': 'Maximiliano Jorge', 'apellido': 'Bruder', 'edad': 19, 'provincia': 'Entre Ríos'},\n",
    "    {'nombre': 'Carlos Jorge', 'apellido': 'Pralong', 'edad': 66, 'provincia': 'San Luis'},\n",
    "    {'nombre': 'Luis Jorge', 'apellido': 'Sosa', 'edad': 43, 'provincia': 'Formosa'},\n",
    "    {'nombre': 'Cesar Juan', 'apellido': 'Gonzalez', 'edad': 23, 'provincia': 'Corrientes', 'ciudad': 'Itatí'},\n",
    "    {'nombre': 'José Pedro', 'apellido': 'Pralong', 'provincia': 'Corrientes'}\n",
    "]\n",
    "    "
   ]
  },
  {
   "cell_type": "code",
   "execution_count": 32,
   "metadata": {
    "slideshow": {
     "slide_type": "slide"
    }
   },
   "outputs": [
    {
     "ename": "KeyError",
     "evalue": "'edad'",
     "output_type": "error",
     "traceback": [
      "\u001b[0;31m---------------------------------------------------------------------------\u001b[0m",
      "\u001b[0;31mKeyError\u001b[0m                                  Traceback (most recent call last)",
      "\u001b[0;32m<ipython-input-32-e2e699f07dd3>\u001b[0m in \u001b[0;36m<module>\u001b[0;34m()\u001b[0m\n\u001b[1;32m      1\u001b[0m \u001b[0mresultado\u001b[0m \u001b[0;34m=\u001b[0m \u001b[0;34m[\u001b[0m\u001b[0;34m]\u001b[0m\u001b[0;34m\u001b[0m\u001b[0m\n\u001b[1;32m      2\u001b[0m \u001b[0;32mfor\u001b[0m \u001b[0mpersona\u001b[0m \u001b[0;32min\u001b[0m \u001b[0mpersonas\u001b[0m\u001b[0;34m:\u001b[0m\u001b[0;34m\u001b[0m\u001b[0m\n\u001b[0;32m----> 3\u001b[0;31m     \u001b[0;32mif\u001b[0m \u001b[0mpersona\u001b[0m\u001b[0;34m[\u001b[0m\u001b[0;34m'edad'\u001b[0m\u001b[0;34m]\u001b[0m \u001b[0;34m<\u001b[0m \u001b[0;36m40\u001b[0m\u001b[0;34m:\u001b[0m\u001b[0;34m\u001b[0m\u001b[0m\n\u001b[0m\u001b[1;32m      4\u001b[0m         \u001b[0mresultado\u001b[0m\u001b[0;34m.\u001b[0m\u001b[0mappend\u001b[0m\u001b[0;34m(\u001b[0m\u001b[0mpersona\u001b[0m\u001b[0;34m)\u001b[0m\u001b[0;34m\u001b[0m\u001b[0m\n\u001b[1;32m      5\u001b[0m \u001b[0;34m\u001b[0m\u001b[0m\n",
      "\u001b[0;31mKeyError\u001b[0m: 'edad'"
     ]
    }
   ],
   "source": [
    "resultado = []\n",
    "for persona in personas:\n",
    "    if persona['edad'] < 40:\n",
    "        resultado.append(persona)\n",
    "\n",
    "resultado"
   ]
  },
  {
   "cell_type": "code",
   "execution_count": 33,
   "metadata": {
    "slideshow": {
     "slide_type": "slide"
    }
   },
   "outputs": [
    {
     "data": {
      "text/html": [
       "<div>\n",
       "<style scoped>\n",
       "    .dataframe tbody tr th:only-of-type {\n",
       "        vertical-align: middle;\n",
       "    }\n",
       "\n",
       "    .dataframe tbody tr th {\n",
       "        vertical-align: top;\n",
       "    }\n",
       "\n",
       "    .dataframe thead th {\n",
       "        text-align: right;\n",
       "    }\n",
       "</style>\n",
       "<table border=\"1\" class=\"dataframe\">\n",
       "  <thead>\n",
       "    <tr style=\"text-align: right;\">\n",
       "      <th></th>\n",
       "      <th>apellido</th>\n",
       "      <th>ciudad</th>\n",
       "      <th>edad</th>\n",
       "      <th>nombre</th>\n",
       "      <th>provincia</th>\n",
       "    </tr>\n",
       "  </thead>\n",
       "  <tbody>\n",
       "    <tr>\n",
       "      <th>0</th>\n",
       "      <td>Sosa</td>\n",
       "      <td>NaN</td>\n",
       "      <td>76.0</td>\n",
       "      <td>Carla Maria</td>\n",
       "      <td>Corrientes</td>\n",
       "    </tr>\n",
       "    <tr>\n",
       "      <th>1</th>\n",
       "      <td>Gomez</td>\n",
       "      <td>NaN</td>\n",
       "      <td>34.0</td>\n",
       "      <td>Marianela Monica</td>\n",
       "      <td>Santiago del Estero</td>\n",
       "    </tr>\n",
       "    <tr>\n",
       "      <th>2</th>\n",
       "      <td>Blanco</td>\n",
       "      <td>NaN</td>\n",
       "      <td>21.0</td>\n",
       "      <td>Andrea Antonela</td>\n",
       "      <td>Tucumán</td>\n",
       "    </tr>\n",
       "    <tr>\n",
       "      <th>3</th>\n",
       "      <td>Fernandez</td>\n",
       "      <td>NaN</td>\n",
       "      <td>36.0</td>\n",
       "      <td>Maria Carla</td>\n",
       "      <td>San Luis</td>\n",
       "    </tr>\n",
       "    <tr>\n",
       "      <th>4</th>\n",
       "      <td>Bruder</td>\n",
       "      <td>NaN</td>\n",
       "      <td>76.0</td>\n",
       "      <td>Norma Andrea</td>\n",
       "      <td>San Luis</td>\n",
       "    </tr>\n",
       "    <tr>\n",
       "      <th>5</th>\n",
       "      <td>Bruder</td>\n",
       "      <td>NaN</td>\n",
       "      <td>19.0</td>\n",
       "      <td>Maximiliano Jorge</td>\n",
       "      <td>Entre Ríos</td>\n",
       "    </tr>\n",
       "    <tr>\n",
       "      <th>6</th>\n",
       "      <td>Pralong</td>\n",
       "      <td>NaN</td>\n",
       "      <td>66.0</td>\n",
       "      <td>Carlos Jorge</td>\n",
       "      <td>San Luis</td>\n",
       "    </tr>\n",
       "    <tr>\n",
       "      <th>7</th>\n",
       "      <td>Sosa</td>\n",
       "      <td>NaN</td>\n",
       "      <td>43.0</td>\n",
       "      <td>Luis Jorge</td>\n",
       "      <td>Formosa</td>\n",
       "    </tr>\n",
       "    <tr>\n",
       "      <th>8</th>\n",
       "      <td>Gonzalez</td>\n",
       "      <td>Itatí</td>\n",
       "      <td>23.0</td>\n",
       "      <td>Cesar Juan</td>\n",
       "      <td>Corrientes</td>\n",
       "    </tr>\n",
       "    <tr>\n",
       "      <th>9</th>\n",
       "      <td>Pralong</td>\n",
       "      <td>NaN</td>\n",
       "      <td>NaN</td>\n",
       "      <td>José Pedro</td>\n",
       "      <td>Corrientes</td>\n",
       "    </tr>\n",
       "  </tbody>\n",
       "</table>\n",
       "</div>"
      ],
      "text/plain": [
       "    apellido ciudad  edad             nombre            provincia\n",
       "0       Sosa    NaN  76.0        Carla Maria           Corrientes\n",
       "1      Gomez    NaN  34.0   Marianela Monica  Santiago del Estero\n",
       "2     Blanco    NaN  21.0    Andrea Antonela              Tucumán\n",
       "3  Fernandez    NaN  36.0        Maria Carla             San Luis\n",
       "4     Bruder    NaN  76.0       Norma Andrea             San Luis\n",
       "5     Bruder    NaN  19.0  Maximiliano Jorge           Entre Ríos\n",
       "6    Pralong    NaN  66.0       Carlos Jorge             San Luis\n",
       "7       Sosa    NaN  43.0         Luis Jorge              Formosa\n",
       "8   Gonzalez  Itatí  23.0         Cesar Juan           Corrientes\n",
       "9    Pralong    NaN   NaN         José Pedro           Corrientes"
      ]
     },
     "execution_count": 33,
     "metadata": {},
     "output_type": "execute_result"
    }
   ],
   "source": [
    "import pandas as pd\n",
    "\n",
    "df_personas = pd.DataFrame(personas)\n",
    "df_personas"
   ]
  },
  {
   "cell_type": "markdown",
   "metadata": {
    "slideshow": {
     "slide_type": "notes"
    }
   },
   "source": [
    "Esto es una nota"
   ]
  },
  {
   "cell_type": "code",
   "execution_count": 34,
   "metadata": {
    "slideshow": {
     "slide_type": "slide"
    }
   },
   "outputs": [
    {
     "data": {
      "text/plain": [
       "0          Carla Maria\n",
       "1     Marianela Monica\n",
       "2      Andrea Antonela\n",
       "3          Maria Carla\n",
       "4         Norma Andrea\n",
       "5    Maximiliano Jorge\n",
       "6         Carlos Jorge\n",
       "7           Luis Jorge\n",
       "8           Cesar Juan\n",
       "9           José Pedro\n",
       "Name: nombre, dtype: object"
      ]
     },
     "execution_count": 34,
     "metadata": {},
     "output_type": "execute_result"
    }
   ],
   "source": [
    "df_personas[\"nombre\"]"
   ]
  },
  {
   "cell_type": "code",
   "execution_count": 35,
   "metadata": {
    "slideshow": {
     "slide_type": "slide"
    }
   },
   "outputs": [
    {
     "data": {
      "text/html": [
       "<div>\n",
       "<style scoped>\n",
       "    .dataframe tbody tr th:only-of-type {\n",
       "        vertical-align: middle;\n",
       "    }\n",
       "\n",
       "    .dataframe tbody tr th {\n",
       "        vertical-align: top;\n",
       "    }\n",
       "\n",
       "    .dataframe thead th {\n",
       "        text-align: right;\n",
       "    }\n",
       "</style>\n",
       "<table border=\"1\" class=\"dataframe\">\n",
       "  <thead>\n",
       "    <tr style=\"text-align: right;\">\n",
       "      <th></th>\n",
       "      <th>nombre</th>\n",
       "      <th>provincia</th>\n",
       "    </tr>\n",
       "  </thead>\n",
       "  <tbody>\n",
       "    <tr>\n",
       "      <th>0</th>\n",
       "      <td>Carla Maria</td>\n",
       "      <td>Corrientes</td>\n",
       "    </tr>\n",
       "    <tr>\n",
       "      <th>1</th>\n",
       "      <td>Marianela Monica</td>\n",
       "      <td>Santiago del Estero</td>\n",
       "    </tr>\n",
       "    <tr>\n",
       "      <th>2</th>\n",
       "      <td>Andrea Antonela</td>\n",
       "      <td>Tucumán</td>\n",
       "    </tr>\n",
       "    <tr>\n",
       "      <th>3</th>\n",
       "      <td>Maria Carla</td>\n",
       "      <td>San Luis</td>\n",
       "    </tr>\n",
       "    <tr>\n",
       "      <th>4</th>\n",
       "      <td>Norma Andrea</td>\n",
       "      <td>San Luis</td>\n",
       "    </tr>\n",
       "    <tr>\n",
       "      <th>5</th>\n",
       "      <td>Maximiliano Jorge</td>\n",
       "      <td>Entre Ríos</td>\n",
       "    </tr>\n",
       "    <tr>\n",
       "      <th>6</th>\n",
       "      <td>Carlos Jorge</td>\n",
       "      <td>San Luis</td>\n",
       "    </tr>\n",
       "    <tr>\n",
       "      <th>7</th>\n",
       "      <td>Luis Jorge</td>\n",
       "      <td>Formosa</td>\n",
       "    </tr>\n",
       "    <tr>\n",
       "      <th>8</th>\n",
       "      <td>Cesar Juan</td>\n",
       "      <td>Corrientes</td>\n",
       "    </tr>\n",
       "    <tr>\n",
       "      <th>9</th>\n",
       "      <td>José Pedro</td>\n",
       "      <td>Corrientes</td>\n",
       "    </tr>\n",
       "  </tbody>\n",
       "</table>\n",
       "</div>"
      ],
      "text/plain": [
       "              nombre            provincia\n",
       "0        Carla Maria           Corrientes\n",
       "1   Marianela Monica  Santiago del Estero\n",
       "2    Andrea Antonela              Tucumán\n",
       "3        Maria Carla             San Luis\n",
       "4       Norma Andrea             San Luis\n",
       "5  Maximiliano Jorge           Entre Ríos\n",
       "6       Carlos Jorge             San Luis\n",
       "7         Luis Jorge              Formosa\n",
       "8         Cesar Juan           Corrientes\n",
       "9         José Pedro           Corrientes"
      ]
     },
     "execution_count": 35,
     "metadata": {},
     "output_type": "execute_result"
    }
   ],
   "source": [
    "df_personas[['nombre', 'provincia']]"
   ]
  },
  {
   "cell_type": "code",
   "execution_count": 36,
   "metadata": {
    "slideshow": {
     "slide_type": "slide"
    }
   },
   "outputs": [
    {
     "data": {
      "text/html": [
       "<div>\n",
       "<style scoped>\n",
       "    .dataframe tbody tr th:only-of-type {\n",
       "        vertical-align: middle;\n",
       "    }\n",
       "\n",
       "    .dataframe tbody tr th {\n",
       "        vertical-align: top;\n",
       "    }\n",
       "\n",
       "    .dataframe thead th {\n",
       "        text-align: right;\n",
       "    }\n",
       "</style>\n",
       "<table border=\"1\" class=\"dataframe\">\n",
       "  <thead>\n",
       "    <tr style=\"text-align: right;\">\n",
       "      <th></th>\n",
       "      <th>apellido</th>\n",
       "      <th>ciudad</th>\n",
       "      <th>edad</th>\n",
       "      <th>nombre</th>\n",
       "      <th>provincia</th>\n",
       "    </tr>\n",
       "  </thead>\n",
       "  <tbody>\n",
       "    <tr>\n",
       "      <th>1</th>\n",
       "      <td>Gomez</td>\n",
       "      <td>NaN</td>\n",
       "      <td>34.0</td>\n",
       "      <td>Marianela Monica</td>\n",
       "      <td>Santiago del Estero</td>\n",
       "    </tr>\n",
       "    <tr>\n",
       "      <th>2</th>\n",
       "      <td>Blanco</td>\n",
       "      <td>NaN</td>\n",
       "      <td>21.0</td>\n",
       "      <td>Andrea Antonela</td>\n",
       "      <td>Tucumán</td>\n",
       "    </tr>\n",
       "    <tr>\n",
       "      <th>3</th>\n",
       "      <td>Fernandez</td>\n",
       "      <td>NaN</td>\n",
       "      <td>36.0</td>\n",
       "      <td>Maria Carla</td>\n",
       "      <td>San Luis</td>\n",
       "    </tr>\n",
       "    <tr>\n",
       "      <th>5</th>\n",
       "      <td>Bruder</td>\n",
       "      <td>NaN</td>\n",
       "      <td>19.0</td>\n",
       "      <td>Maximiliano Jorge</td>\n",
       "      <td>Entre Ríos</td>\n",
       "    </tr>\n",
       "    <tr>\n",
       "      <th>8</th>\n",
       "      <td>Gonzalez</td>\n",
       "      <td>Itatí</td>\n",
       "      <td>23.0</td>\n",
       "      <td>Cesar Juan</td>\n",
       "      <td>Corrientes</td>\n",
       "    </tr>\n",
       "  </tbody>\n",
       "</table>\n",
       "</div>"
      ],
      "text/plain": [
       "    apellido ciudad  edad             nombre            provincia\n",
       "1      Gomez    NaN  34.0   Marianela Monica  Santiago del Estero\n",
       "2     Blanco    NaN  21.0    Andrea Antonela              Tucumán\n",
       "3  Fernandez    NaN  36.0        Maria Carla             San Luis\n",
       "5     Bruder    NaN  19.0  Maximiliano Jorge           Entre Ríos\n",
       "8   Gonzalez  Itatí  23.0         Cesar Juan           Corrientes"
      ]
     },
     "execution_count": 36,
     "metadata": {},
     "output_type": "execute_result"
    }
   ],
   "source": [
    "df_personas[ df_personas['edad'] < 40 ]"
   ]
  },
  {
   "cell_type": "code",
   "execution_count": 37,
   "metadata": {
    "slideshow": {
     "slide_type": "slide"
    }
   },
   "outputs": [
    {
     "data": {
      "text/html": [
       "<div>\n",
       "<style scoped>\n",
       "    .dataframe tbody tr th:only-of-type {\n",
       "        vertical-align: middle;\n",
       "    }\n",
       "\n",
       "    .dataframe tbody tr th {\n",
       "        vertical-align: top;\n",
       "    }\n",
       "\n",
       "    .dataframe thead th {\n",
       "        text-align: right;\n",
       "    }\n",
       "</style>\n",
       "<table border=\"1\" class=\"dataframe\">\n",
       "  <thead>\n",
       "    <tr style=\"text-align: right;\">\n",
       "      <th></th>\n",
       "      <th>apellido</th>\n",
       "      <th>ciudad</th>\n",
       "      <th>edad</th>\n",
       "      <th>nombre</th>\n",
       "      <th>provincia</th>\n",
       "    </tr>\n",
       "  </thead>\n",
       "  <tbody>\n",
       "    <tr>\n",
       "      <th>0</th>\n",
       "      <td>Sosa</td>\n",
       "      <td>NaN</td>\n",
       "      <td>76.0</td>\n",
       "      <td>Carla Maria</td>\n",
       "      <td>Corrientes</td>\n",
       "    </tr>\n",
       "    <tr>\n",
       "      <th>8</th>\n",
       "      <td>Gonzalez</td>\n",
       "      <td>Itatí</td>\n",
       "      <td>23.0</td>\n",
       "      <td>Cesar Juan</td>\n",
       "      <td>Corrientes</td>\n",
       "    </tr>\n",
       "    <tr>\n",
       "      <th>9</th>\n",
       "      <td>Pralong</td>\n",
       "      <td>NaN</td>\n",
       "      <td>NaN</td>\n",
       "      <td>José Pedro</td>\n",
       "      <td>Corrientes</td>\n",
       "    </tr>\n",
       "  </tbody>\n",
       "</table>\n",
       "</div>"
      ],
      "text/plain": [
       "   apellido ciudad  edad       nombre   provincia\n",
       "0      Sosa    NaN  76.0  Carla Maria  Corrientes\n",
       "8  Gonzalez  Itatí  23.0   Cesar Juan  Corrientes\n",
       "9   Pralong    NaN   NaN   José Pedro  Corrientes"
      ]
     },
     "execution_count": 37,
     "metadata": {},
     "output_type": "execute_result"
    }
   ],
   "source": [
    "df_personas[ df_personas['provincia'] == 'Corrientes']"
   ]
  },
  {
   "cell_type": "code",
   "execution_count": 38,
   "metadata": {
    "slideshow": {
     "slide_type": "slide"
    }
   },
   "outputs": [
    {
     "data": {
      "text/html": [
       "<div>\n",
       "<style scoped>\n",
       "    .dataframe tbody tr th:only-of-type {\n",
       "        vertical-align: middle;\n",
       "    }\n",
       "\n",
       "    .dataframe tbody tr th {\n",
       "        vertical-align: top;\n",
       "    }\n",
       "\n",
       "    .dataframe thead th {\n",
       "        text-align: right;\n",
       "    }\n",
       "</style>\n",
       "<table border=\"1\" class=\"dataframe\">\n",
       "  <thead>\n",
       "    <tr style=\"text-align: right;\">\n",
       "      <th></th>\n",
       "      <th>apellido</th>\n",
       "      <th>ciudad</th>\n",
       "      <th>edad</th>\n",
       "      <th>nombre</th>\n",
       "      <th>provincia</th>\n",
       "    </tr>\n",
       "  </thead>\n",
       "  <tbody>\n",
       "    <tr>\n",
       "      <th>0</th>\n",
       "      <td>Sosa</td>\n",
       "      <td>NaN</td>\n",
       "      <td>76.0</td>\n",
       "      <td>Carla Maria</td>\n",
       "      <td>Corrientes</td>\n",
       "    </tr>\n",
       "    <tr>\n",
       "      <th>1</th>\n",
       "      <td>Gomez</td>\n",
       "      <td>NaN</td>\n",
       "      <td>34.0</td>\n",
       "      <td>Marianela Monica</td>\n",
       "      <td>Santiago del Estero</td>\n",
       "    </tr>\n",
       "    <tr>\n",
       "      <th>2</th>\n",
       "      <td>Blanco</td>\n",
       "      <td>NaN</td>\n",
       "      <td>21.0</td>\n",
       "      <td>Andrea Antonela</td>\n",
       "      <td>Tucumán</td>\n",
       "    </tr>\n",
       "    <tr>\n",
       "      <th>3</th>\n",
       "      <td>Fernandez</td>\n",
       "      <td>NaN</td>\n",
       "      <td>36.0</td>\n",
       "      <td>Maria Carla</td>\n",
       "      <td>San Luis</td>\n",
       "    </tr>\n",
       "    <tr>\n",
       "      <th>4</th>\n",
       "      <td>Bruder</td>\n",
       "      <td>NaN</td>\n",
       "      <td>76.0</td>\n",
       "      <td>Norma Andrea</td>\n",
       "      <td>San Luis</td>\n",
       "    </tr>\n",
       "    <tr>\n",
       "      <th>5</th>\n",
       "      <td>Bruder</td>\n",
       "      <td>NaN</td>\n",
       "      <td>19.0</td>\n",
       "      <td>Maximiliano Jorge</td>\n",
       "      <td>Entre Ríos</td>\n",
       "    </tr>\n",
       "    <tr>\n",
       "      <th>6</th>\n",
       "      <td>Pralong</td>\n",
       "      <td>NaN</td>\n",
       "      <td>66.0</td>\n",
       "      <td>Carlos Jorge</td>\n",
       "      <td>San Luis</td>\n",
       "    </tr>\n",
       "    <tr>\n",
       "      <th>7</th>\n",
       "      <td>Sosa</td>\n",
       "      <td>NaN</td>\n",
       "      <td>43.0</td>\n",
       "      <td>Luis Jorge</td>\n",
       "      <td>Formosa</td>\n",
       "    </tr>\n",
       "    <tr>\n",
       "      <th>8</th>\n",
       "      <td>Gonzalez</td>\n",
       "      <td>Itatí</td>\n",
       "      <td>23.0</td>\n",
       "      <td>Cesar Juan</td>\n",
       "      <td>Corrientes</td>\n",
       "    </tr>\n",
       "    <tr>\n",
       "      <th>9</th>\n",
       "      <td>Pralong</td>\n",
       "      <td>NaN</td>\n",
       "      <td>NaN</td>\n",
       "      <td>José Pedro</td>\n",
       "      <td>Corrientes</td>\n",
       "    </tr>\n",
       "    <tr>\n",
       "      <th>10</th>\n",
       "      <td>Perez</td>\n",
       "      <td>NaN</td>\n",
       "      <td>78.0</td>\n",
       "      <td>Juan</td>\n",
       "      <td>Corientes</td>\n",
       "    </tr>\n",
       "  </tbody>\n",
       "</table>\n",
       "</div>"
      ],
      "text/plain": [
       "     apellido ciudad  edad             nombre            provincia\n",
       "0        Sosa    NaN  76.0        Carla Maria           Corrientes\n",
       "1       Gomez    NaN  34.0   Marianela Monica  Santiago del Estero\n",
       "2      Blanco    NaN  21.0    Andrea Antonela              Tucumán\n",
       "3   Fernandez    NaN  36.0        Maria Carla             San Luis\n",
       "4      Bruder    NaN  76.0       Norma Andrea             San Luis\n",
       "5      Bruder    NaN  19.0  Maximiliano Jorge           Entre Ríos\n",
       "6     Pralong    NaN  66.0       Carlos Jorge             San Luis\n",
       "7        Sosa    NaN  43.0         Luis Jorge              Formosa\n",
       "8    Gonzalez  Itatí  23.0         Cesar Juan           Corrientes\n",
       "9     Pralong    NaN   NaN         José Pedro           Corrientes\n",
       "10      Perez    NaN  78.0               Juan            Corientes"
      ]
     },
     "execution_count": 38,
     "metadata": {},
     "output_type": "execute_result"
    }
   ],
   "source": [
    "df_personas = df_personas.append(\n",
    "    {'nombre': 'Juan', 'apellido': 'Perez', 'edad': 78, 'provincia': 'Corientes'}, ignore_index=True)\n",
    "df_personas"
   ]
  },
  {
   "cell_type": "code",
   "execution_count": 39,
   "metadata": {
    "slideshow": {
     "slide_type": "slide"
    }
   },
   "outputs": [],
   "source": [
    "df_personas.loc[10, 'provincia'] = 'Corrientes'"
   ]
  },
  {
   "cell_type": "code",
   "execution_count": 40,
   "metadata": {
    "slideshow": {
     "slide_type": "slide"
    }
   },
   "outputs": [
    {
     "data": {
      "text/html": [
       "<div>\n",
       "<style scoped>\n",
       "    .dataframe tbody tr th:only-of-type {\n",
       "        vertical-align: middle;\n",
       "    }\n",
       "\n",
       "    .dataframe tbody tr th {\n",
       "        vertical-align: top;\n",
       "    }\n",
       "\n",
       "    .dataframe thead th {\n",
       "        text-align: right;\n",
       "    }\n",
       "</style>\n",
       "<table border=\"1\" class=\"dataframe\">\n",
       "  <thead>\n",
       "    <tr style=\"text-align: right;\">\n",
       "      <th></th>\n",
       "      <th>apellido</th>\n",
       "      <th>ciudad</th>\n",
       "      <th>edad</th>\n",
       "      <th>nombre</th>\n",
       "      <th>provincia</th>\n",
       "      <th>ingresos</th>\n",
       "      <th>cantidad_hijos</th>\n",
       "    </tr>\n",
       "  </thead>\n",
       "  <tbody>\n",
       "    <tr>\n",
       "      <th>0</th>\n",
       "      <td>Sosa</td>\n",
       "      <td>NaN</td>\n",
       "      <td>76.0</td>\n",
       "      <td>Carla Maria</td>\n",
       "      <td>Corrientes</td>\n",
       "      <td>0</td>\n",
       "      <td>4</td>\n",
       "    </tr>\n",
       "    <tr>\n",
       "      <th>1</th>\n",
       "      <td>Gomez</td>\n",
       "      <td>NaN</td>\n",
       "      <td>34.0</td>\n",
       "      <td>Marianela Monica</td>\n",
       "      <td>Santiago del Estero</td>\n",
       "      <td>0</td>\n",
       "      <td>1</td>\n",
       "    </tr>\n",
       "    <tr>\n",
       "      <th>2</th>\n",
       "      <td>Blanco</td>\n",
       "      <td>NaN</td>\n",
       "      <td>21.0</td>\n",
       "      <td>Andrea Antonela</td>\n",
       "      <td>Tucumán</td>\n",
       "      <td>0</td>\n",
       "      <td>0</td>\n",
       "    </tr>\n",
       "    <tr>\n",
       "      <th>3</th>\n",
       "      <td>Fernandez</td>\n",
       "      <td>NaN</td>\n",
       "      <td>36.0</td>\n",
       "      <td>Maria Carla</td>\n",
       "      <td>San Luis</td>\n",
       "      <td>0</td>\n",
       "      <td>0</td>\n",
       "    </tr>\n",
       "    <tr>\n",
       "      <th>4</th>\n",
       "      <td>Bruder</td>\n",
       "      <td>NaN</td>\n",
       "      <td>76.0</td>\n",
       "      <td>Norma Andrea</td>\n",
       "      <td>San Luis</td>\n",
       "      <td>0</td>\n",
       "      <td>2</td>\n",
       "    </tr>\n",
       "    <tr>\n",
       "      <th>5</th>\n",
       "      <td>Bruder</td>\n",
       "      <td>NaN</td>\n",
       "      <td>19.0</td>\n",
       "      <td>Maximiliano Jorge</td>\n",
       "      <td>Entre Ríos</td>\n",
       "      <td>0</td>\n",
       "      <td>0</td>\n",
       "    </tr>\n",
       "    <tr>\n",
       "      <th>6</th>\n",
       "      <td>Pralong</td>\n",
       "      <td>NaN</td>\n",
       "      <td>66.0</td>\n",
       "      <td>Carlos Jorge</td>\n",
       "      <td>San Luis</td>\n",
       "      <td>0</td>\n",
       "      <td>1</td>\n",
       "    </tr>\n",
       "    <tr>\n",
       "      <th>7</th>\n",
       "      <td>Sosa</td>\n",
       "      <td>NaN</td>\n",
       "      <td>43.0</td>\n",
       "      <td>Luis Jorge</td>\n",
       "      <td>Formosa</td>\n",
       "      <td>0</td>\n",
       "      <td>5</td>\n",
       "    </tr>\n",
       "    <tr>\n",
       "      <th>8</th>\n",
       "      <td>Gonzalez</td>\n",
       "      <td>Itatí</td>\n",
       "      <td>23.0</td>\n",
       "      <td>Cesar Juan</td>\n",
       "      <td>Corrientes</td>\n",
       "      <td>0</td>\n",
       "      <td>1</td>\n",
       "    </tr>\n",
       "    <tr>\n",
       "      <th>9</th>\n",
       "      <td>Pralong</td>\n",
       "      <td>NaN</td>\n",
       "      <td>NaN</td>\n",
       "      <td>José Pedro</td>\n",
       "      <td>Corrientes</td>\n",
       "      <td>0</td>\n",
       "      <td>2</td>\n",
       "    </tr>\n",
       "    <tr>\n",
       "      <th>10</th>\n",
       "      <td>Perez</td>\n",
       "      <td>NaN</td>\n",
       "      <td>78.0</td>\n",
       "      <td>Juan</td>\n",
       "      <td>Corrientes</td>\n",
       "      <td>0</td>\n",
       "      <td>0</td>\n",
       "    </tr>\n",
       "  </tbody>\n",
       "</table>\n",
       "</div>"
      ],
      "text/plain": [
       "     apellido ciudad  edad             nombre            provincia  ingresos  \\\n",
       "0        Sosa    NaN  76.0        Carla Maria           Corrientes         0   \n",
       "1       Gomez    NaN  34.0   Marianela Monica  Santiago del Estero         0   \n",
       "2      Blanco    NaN  21.0    Andrea Antonela              Tucumán         0   \n",
       "3   Fernandez    NaN  36.0        Maria Carla             San Luis         0   \n",
       "4      Bruder    NaN  76.0       Norma Andrea             San Luis         0   \n",
       "5      Bruder    NaN  19.0  Maximiliano Jorge           Entre Ríos         0   \n",
       "6     Pralong    NaN  66.0       Carlos Jorge             San Luis         0   \n",
       "7        Sosa    NaN  43.0         Luis Jorge              Formosa         0   \n",
       "8    Gonzalez  Itatí  23.0         Cesar Juan           Corrientes         0   \n",
       "9     Pralong    NaN   NaN         José Pedro           Corrientes         0   \n",
       "10      Perez    NaN  78.0               Juan           Corrientes         0   \n",
       "\n",
       "    cantidad_hijos  \n",
       "0                4  \n",
       "1                1  \n",
       "2                0  \n",
       "3                0  \n",
       "4                2  \n",
       "5                0  \n",
       "6                1  \n",
       "7                5  \n",
       "8                1  \n",
       "9                2  \n",
       "10               0  "
      ]
     },
     "execution_count": 40,
     "metadata": {},
     "output_type": "execute_result"
    }
   ],
   "source": [
    "df_personas['ingresos'] = 0\n",
    "df_personas['cantidad_hijos'] = [4, 1, 0, 0, 2, 0, 1, 5, 1, 2, 0]\n",
    "df_personas"
   ]
  },
  {
   "cell_type": "code",
   "execution_count": 41,
   "metadata": {
    "slideshow": {
     "slide_type": "slide"
    }
   },
   "outputs": [
    {
     "name": "stdout",
     "output_type": "stream",
     "text": [
      "<class 'pandas.core.frame.DataFrame'>\n",
      "RangeIndex: 11 entries, 0 to 10\n",
      "Data columns (total 7 columns):\n",
      "apellido          11 non-null object\n",
      "ciudad            1 non-null object\n",
      "edad              10 non-null float64\n",
      "nombre            11 non-null object\n",
      "provincia         11 non-null object\n",
      "ingresos          11 non-null int64\n",
      "cantidad_hijos    11 non-null int64\n",
      "dtypes: float64(1), int64(2), object(4)\n",
      "memory usage: 696.0+ bytes\n"
     ]
    }
   ],
   "source": [
    "df_personas.info()"
   ]
  },
  {
   "cell_type": "code",
   "execution_count": 42,
   "metadata": {
    "slideshow": {
     "slide_type": "slide"
    }
   },
   "outputs": [
    {
     "data": {
      "text/html": [
       "<div>\n",
       "<style scoped>\n",
       "    .dataframe tbody tr th:only-of-type {\n",
       "        vertical-align: middle;\n",
       "    }\n",
       "\n",
       "    .dataframe tbody tr th {\n",
       "        vertical-align: top;\n",
       "    }\n",
       "\n",
       "    .dataframe thead th {\n",
       "        text-align: right;\n",
       "    }\n",
       "</style>\n",
       "<table border=\"1\" class=\"dataframe\">\n",
       "  <thead>\n",
       "    <tr style=\"text-align: right;\">\n",
       "      <th></th>\n",
       "      <th>edad</th>\n",
       "      <th>ingresos</th>\n",
       "      <th>cantidad_hijos</th>\n",
       "    </tr>\n",
       "  </thead>\n",
       "  <tbody>\n",
       "    <tr>\n",
       "      <th>count</th>\n",
       "      <td>10.000000</td>\n",
       "      <td>11.0</td>\n",
       "      <td>11.000000</td>\n",
       "    </tr>\n",
       "    <tr>\n",
       "      <th>mean</th>\n",
       "      <td>47.200000</td>\n",
       "      <td>0.0</td>\n",
       "      <td>1.454545</td>\n",
       "    </tr>\n",
       "    <tr>\n",
       "      <th>std</th>\n",
       "      <td>24.371203</td>\n",
       "      <td>0.0</td>\n",
       "      <td>1.694912</td>\n",
       "    </tr>\n",
       "    <tr>\n",
       "      <th>min</th>\n",
       "      <td>19.000000</td>\n",
       "      <td>0.0</td>\n",
       "      <td>0.000000</td>\n",
       "    </tr>\n",
       "    <tr>\n",
       "      <th>25%</th>\n",
       "      <td>25.750000</td>\n",
       "      <td>0.0</td>\n",
       "      <td>0.000000</td>\n",
       "    </tr>\n",
       "    <tr>\n",
       "      <th>50%</th>\n",
       "      <td>39.500000</td>\n",
       "      <td>0.0</td>\n",
       "      <td>1.000000</td>\n",
       "    </tr>\n",
       "    <tr>\n",
       "      <th>75%</th>\n",
       "      <td>73.500000</td>\n",
       "      <td>0.0</td>\n",
       "      <td>2.000000</td>\n",
       "    </tr>\n",
       "    <tr>\n",
       "      <th>max</th>\n",
       "      <td>78.000000</td>\n",
       "      <td>0.0</td>\n",
       "      <td>5.000000</td>\n",
       "    </tr>\n",
       "  </tbody>\n",
       "</table>\n",
       "</div>"
      ],
      "text/plain": [
       "            edad  ingresos  cantidad_hijos\n",
       "count  10.000000      11.0       11.000000\n",
       "mean   47.200000       0.0        1.454545\n",
       "std    24.371203       0.0        1.694912\n",
       "min    19.000000       0.0        0.000000\n",
       "25%    25.750000       0.0        0.000000\n",
       "50%    39.500000       0.0        1.000000\n",
       "75%    73.500000       0.0        2.000000\n",
       "max    78.000000       0.0        5.000000"
      ]
     },
     "execution_count": 42,
     "metadata": {},
     "output_type": "execute_result"
    }
   ],
   "source": [
    "df_personas.describe()"
   ]
  },
  {
   "cell_type": "code",
   "execution_count": 44,
   "metadata": {
    "slideshow": {
     "slide_type": "slide"
    }
   },
   "outputs": [
    {
     "data": {
      "text/plain": [
       "(11, 7)"
      ]
     },
     "execution_count": 44,
     "metadata": {},
     "output_type": "execute_result"
    }
   ],
   "source": [
    "df_personas.shape"
   ]
  },
  {
   "cell_type": "code",
   "execution_count": null,
   "metadata": {},
   "outputs": [],
   "source": []
  }
 ],
 "metadata": {
  "celltoolbar": "Slideshow",
  "kernelspec": {
   "display_name": "Python 3",
   "language": "python",
   "name": "python3"
  },
  "language_info": {
   "codemirror_mode": {
    "name": "ipython",
    "version": 3
   },
   "file_extension": ".py",
   "mimetype": "text/x-python",
   "name": "python",
   "nbconvert_exporter": "python",
   "pygments_lexer": "ipython3",
   "version": "3.5.2"
  }
 },
 "nbformat": 4,
 "nbformat_minor": 2
}
