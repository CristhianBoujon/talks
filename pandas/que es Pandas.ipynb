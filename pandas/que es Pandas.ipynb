{
 "cells": [
  {
   "cell_type": "code",
   "execution_count": null,
   "metadata": {
    "slideshow": {
     "slide_type": "skip"
    }
   },
   "outputs": [],
   "source": [
    "from IPython.core.interactiveshell import InteractiveShell\n",
    "InteractiveShell.ast_node_interactivity = \"all\""
   ]
  },
  {
   "cell_type": "code",
   "execution_count": null,
   "metadata": {
    "slideshow": {
     "slide_type": "slide"
    }
   },
   "outputs": [],
   "source": [
    "personas = [\n",
    "    # Nombre, apellido, edad, provincia\n",
    "    ('Carla Maria', 'Sosa', 76, 'Corrientes'),\n",
    "    ('Marianela Monica', 'Gomez', 34, 'Santiago del Estero'),\n",
    "    ('Andrea Antonela', 'Blanco', 21, 'Tucumán'),\n",
    "    ('Maria Carla', 'Fernandez', 36, 'San Luis'),\n",
    "    ('Norma Andrea', 'Bruder', 76, 'San Luis'),\n",
    "    ('Maximiliano Jorge', 'Bruder', 19, 'Entre Ríos'),\n",
    "    ('Carlos Jorge', 'Pralong', 66, 'San Luis'),\n",
    "    ('Luis Jorge', 'Sosa', 43, 'Formosa'),\n",
    "    ('Cesar Juan', 'Gonzalez', 23, 'Corrientes'),\n",
    "    ('José Pedro', 'Pralong', 19, 'Corrientes')    \n",
    "]"
   ]
  },
  {
   "cell_type": "code",
   "execution_count": null,
   "metadata": {
    "slideshow": {
     "slide_type": "slide"
    }
   },
   "outputs": [],
   "source": [
    "resultado = []\n",
    "for persona in personas:\n",
    "    if persona[2] < 40:\n",
    "        resultado.append(persona)\n",
    "\n",
    "resultado"
   ]
  },
  {
   "cell_type": "code",
   "execution_count": null,
   "metadata": {
    "slideshow": {
     "slide_type": "slide"
    }
   },
   "outputs": [],
   "source": [
    "resultado = []\n",
    "for persona in personas:\n",
    "    if persona[3] == 'Corrientes':\n",
    "        resultado.append(persona)\n",
    "\n",
    "resultado"
   ]
  },
  {
   "cell_type": "code",
   "execution_count": null,
   "metadata": {
    "slideshow": {
     "slide_type": "slide"
    }
   },
   "outputs": [],
   "source": [
    "personas = [\n",
    "    {'nombre': 'Carla Maria', 'apellido': 'Sosa', 'edad': 76, 'provincia': 'Corrientes'},\n",
    "    {'nombre': 'Marianela Monica', 'apellido': 'Gomez', 'edad': 34, 'provincia': 'Santiago del Estero'},\n",
    "    {'nombre': 'Andrea Antonela', 'apellido': 'Blanco', 'edad': 21, 'provincia': 'Tucumán'},\n",
    "    {'nombre': 'Maria Carla', 'apellido': 'Fernandez', 'edad': 36, 'provincia': 'San Luis'},\n",
    "    {'nombre': 'Norma Andrea', 'apellido': 'Bruder', 'edad': 76, 'provincia': 'San Luis'},\n",
    "    {'nombre': 'Maximiliano Jorge', 'apellido': 'Bruder', 'edad': 19, 'provincia': 'Entre Ríos'},\n",
    "    {'nombre': 'Carlos Jorge', 'apellido': 'Pralong', 'edad': 66, 'provincia': 'San Luis'},\n",
    "    {'nombre': 'Luis Jorge', 'apellido': 'Sosa', 'edad': 43, 'provincia': 'Formosa'},\n",
    "    {'nombre': 'Cesar Juan', 'apellido': 'Gonzalez', 'edad': 23, 'provincia': 'Corrientes'},\n",
    "    {'nombre': 'José Pedro', 'apellido': 'Pralong', 'edad': 19, 'provincia': 'Corrientes'}\n",
    "]"
   ]
  },
  {
   "cell_type": "code",
   "execution_count": null,
   "metadata": {
    "slideshow": {
     "slide_type": "slide"
    }
   },
   "outputs": [],
   "source": [
    "resultado = []\n",
    "for persona in personas:\n",
    "    if persona['edad'] < 40:\n",
    "        resultado.append(persona)\n",
    "\n",
    "resultado"
   ]
  },
  {
   "cell_type": "code",
   "execution_count": null,
   "metadata": {
    "slideshow": {
     "slide_type": "slide"
    }
   },
   "outputs": [],
   "source": [
    "resultado = []\n",
    "for persona in personas:\n",
    "    if persona['provincia'] == 'Corrientes':\n",
    "        resultado.append(persona)\n",
    "\n",
    "resultado"
   ]
  },
  {
   "cell_type": "code",
   "execution_count": null,
   "metadata": {
    "slideshow": {
     "slide_type": "slide"
    }
   },
   "outputs": [],
   "source": [
    "edades = []\n",
    "for persona in personas:\n",
    "    edades.append(persona['edad'])\n",
    "\n",
    "edades\n",
    "\n",
    "edad_minima = min(edades)\n",
    "edad_minima\n",
    "\n",
    "edad_maxima = max(edades)\n",
    "edad_maxima\n",
    "\n",
    "edad_promedio = sum(edades) / len(edades)\n",
    "edad_promedio"
   ]
  },
  {
   "cell_type": "code",
   "execution_count": null,
   "metadata": {
    "slideshow": {
     "slide_type": "slide"
    }
   },
   "outputs": [],
   "source": [
    "        personas = [\n",
    "    {'nombre': 'Carla Maria', 'apellido': 'Sosa', 'edad': 76, 'provincia': 'Corrientes'},\n",
    "    {'nombre': 'Marianela Monica', 'apellido': 'Gomez', 'edad': 34, 'provincia': 'Santiago del Estero'},\n",
    "    {'nombre': 'Andrea Antonela', 'apellido': 'Blanco', 'edad': 21, 'provincia': 'Tucumán'},\n",
    "    {'nombre': 'Maria Carla', 'apellido': 'Fernandez', 'edad': 36, 'provincia': 'San Luis'},\n",
    "    {'nombre': 'Norma Andrea', 'apellido': 'Bruder', 'edad': 76, 'provincia': 'San Luis'},\n",
    "    {'nombre': 'Maximiliano Jorge', 'apellido': 'Bruder', 'edad': 19, 'provincia': 'Entre Ríos'},\n",
    "    {'nombre': 'Carlos Jorge', 'apellido': 'Pralong', 'edad': 66, 'provincia': 'San Luis'},\n",
    "    {'nombre': 'Luis Jorge', 'apellido': 'Sosa', 'edad': 43, 'provincia': 'Formosa'},\n",
    "    {'nombre': 'Cesar Juan', 'apellido': 'Gonzalez', 'edad': 23, 'provincia': 'Corrientes', 'ciudad': 'Itatí'},\n",
    "    {'nombre': 'José Pedro', 'apellido': 'Pralong', 'provincia': 'Corrientes'}\n",
    "]\n",
    "    "
   ]
  },
  {
   "cell_type": "code",
   "execution_count": null,
   "metadata": {
    "slideshow": {
     "slide_type": "slide"
    }
   },
   "outputs": [],
   "source": [
    "resultado = []\n",
    "for persona in personas:\n",
    "    if persona['edad'] < 40:\n",
    "        resultado.append(persona)\n",
    "\n",
    "resultado"
   ]
  },
  {
   "cell_type": "code",
   "execution_count": null,
   "metadata": {
    "slideshow": {
     "slide_type": "slide"
    }
   },
   "outputs": [],
   "source": [
    "import pandas as pd\n",
    "\n",
    "df_personas = pd.DataFrame(personas)\n",
    "df_personas"
   ]
  },
  {
   "cell_type": "markdown",
   "metadata": {
    "slideshow": {
     "slide_type": "notes"
    }
   },
   "source": [
    "Esto es una nota"
   ]
  },
  {
   "cell_type": "code",
   "execution_count": null,
   "metadata": {
    "slideshow": {
     "slide_type": "slide"
    }
   },
   "outputs": [],
   "source": [
    "df_personas[\"nombre\"]"
   ]
  },
  {
   "cell_type": "code",
   "execution_count": null,
   "metadata": {
    "slideshow": {
     "slide_type": "slide"
    }
   },
   "outputs": [],
   "source": [
    "df_personas[['nombre', 'provincia']]"
   ]
  },
  {
   "cell_type": "code",
   "execution_count": null,
   "metadata": {
    "slideshow": {
     "slide_type": "slide"
    }
   },
   "outputs": [],
   "source": [
    "df_personas[ df_personas['edad'] < 40 ]"
   ]
  },
  {
   "cell_type": "code",
   "execution_count": null,
   "metadata": {
    "slideshow": {
     "slide_type": "slide"
    }
   },
   "outputs": [],
   "source": [
    "df_personas[ df_personas['provincia'] == 'Corrientes']"
   ]
  },
  {
   "cell_type": "code",
   "execution_count": null,
   "metadata": {
    "slideshow": {
     "slide_type": "slide"
    }
   },
   "outputs": [],
   "source": [
    "df_personas = df_personas.append(\n",
    "    {'nombre': 'Juan', 'apellido': 'Perez', 'edad': 78, 'provincia': 'Corientes'}, ignore_index=True)\n",
    "df_personas"
   ]
  },
  {
   "cell_type": "code",
   "execution_count": null,
   "metadata": {
    "slideshow": {
     "slide_type": "slide"
    }
   },
   "outputs": [],
   "source": [
    "df_personas.loc[10, 'provincia'] = 'Corrientes'"
   ]
  },
  {
   "cell_type": "code",
   "execution_count": null,
   "metadata": {
    "slideshow": {
     "slide_type": "slide"
    }
   },
   "outputs": [],
   "source": [
    "df_personas['ingresos'] = 0\n",
    "df_personas['cantidad_hijos'] = [4, 1, 0, 0, 2, 0, 1, 5, 1, 2, 0]\n",
    "df_personas"
   ]
  },
  {
   "cell_type": "code",
   "execution_count": null,
   "metadata": {
    "slideshow": {
     "slide_type": "slide"
    }
   },
   "outputs": [],
   "source": [
    "df_personas.info()"
   ]
  },
  {
   "cell_type": "code",
   "execution_count": null,
   "metadata": {
    "slideshow": {
     "slide_type": "slide"
    }
   },
   "outputs": [],
   "source": [
    "df_personas.describe()"
   ]
  },
  {
   "cell_type": "code",
   "execution_count": null,
   "metadata": {
    "slideshow": {
     "slide_type": "slide"
    }
   },
   "outputs": [],
   "source": [
    "df_personas.shape"
   ]
  },
  {
   "cell_type": "code",
   "execution_count": null,
   "metadata": {},
   "outputs": [],
   "source": []
  }
 ],
 "metadata": {
  "celltoolbar": "Slideshow",
  "kernelspec": {
   "display_name": "Python 3",
   "language": "python",
   "name": "python3"
  },
  "language_info": {
   "codemirror_mode": {
    "name": "ipython",
    "version": 3
   },
   "file_extension": ".py",
   "mimetype": "text/x-python",
   "name": "python",
   "nbconvert_exporter": "python",
   "pygments_lexer": "ipython3",
   "version": "3.5.2"
  }
 },
 "nbformat": 4,
 "nbformat_minor": 2
}
